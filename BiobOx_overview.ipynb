{
 "cells": [
  {
   "cell_type": "markdown",
   "metadata": {},
   "source": [
    "# An overview of BiobOx"
   ]
  },
  {
   "cell_type": "markdown",
   "metadata": {},
   "source": [
    "Welcome to this little tutorial on BiobOx. In this notebook we will overview its main features, and point to relevant publications where they were used. BiobOx is developed by the Degiacomi group in Durham University (UK), and is downloadable from Github, https://github.com/degiacom/biobox. Its API is available here: https://degiacom.github.io/biobox/\n",
    "    \n",
    "A publication about BiobOx is currently in preparation. In the meantime, if you use BiobOx in your work, please reference the Github repository. Let's get starting by importing BiobOx."
   ]
  },
  {
   "cell_type": "code",
   "execution_count": 50,
   "metadata": {},
   "outputs": [],
   "source": [
    "import biobox as bb"
   ]
  },
  {
   "cell_type": "markdown",
   "metadata": {},
   "source": [
    "## Selecting atoms from a (multi)PDB"
   ]
  },
  {
   "cell_type": "markdown",
   "metadata": {},
   "source": [
    "Let’s load a protein in a PDB file:"
   ]
  },
  {
   "cell_type": "code",
   "execution_count": 51,
   "metadata": {},
   "outputs": [],
   "source": [
    "M = bb.Molecule()\n",
    "M.import_pdb(\"HSP.pdb\")"
   ]
  },
  {
   "cell_type": "markdown",
   "metadata": {},
   "source": [
    "All the atomic coordinates are stored in M.coordinates, which is a directly accessible 3D array of size (nb_conformations, nb_atoms, 3)"
   ]
  },
  {
   "cell_type": "code",
   "execution_count": 52,
   "metadata": {},
   "outputs": [
    {
     "name": "stdout",
     "output_type": "stream",
     "text": [
      "(1, 1666, 3)\n"
     ]
    }
   ],
   "source": [
    "print(M.coordinates.shape)"
   ]
  },
  {
   "cell_type": "markdown",
   "metadata": {},
   "source": [
    "The properties of all atoms (i.e. anything that is not coordinates) are stored in the pandas data structure M.data."
   ]
  },
  {
   "cell_type": "code",
   "execution_count": 53,
   "metadata": {},
   "outputs": [
    {
     "name": "stdout",
     "output_type": "stream",
     "text": [
      "      atom  index name resname chain  resid  beta  occupancy atomtype  radius  \\\n",
      "0     ATOM      0    N     THR     A     33   1.0      99.08              1.8   \n",
      "1     ATOM      1   CA     THR     A     33   1.0     100.00              1.8   \n",
      "2     ATOM      2    C     THR     A     33   1.0     100.00              1.8   \n",
      "3     ATOM      3    O     THR     A     33   1.0     100.00              1.8   \n",
      "4     ATOM      4   CB     THR     A     33   1.0     100.00              1.8   \n",
      "5     ATOM      5  OG1     THR     A     33   1.0     100.00              1.8   \n",
      "6     ATOM      6  CG2     THR     A     33   1.0     100.00              1.8   \n",
      "7     ATOM      7    N     GLY     A     34   1.0      98.62              1.8   \n",
      "8     ATOM      8   CA     GLY     A     34   1.0      94.14              1.8   \n",
      "9     ATOM      9    C     GLY     A     34   1.0      92.68              1.8   \n",
      "10    ATOM     10    O     GLY     A     34   1.0      93.55              1.8   \n",
      "11    ATOM     11    N     ILE     A     35   1.0      90.49              1.8   \n",
      "12    ATOM     12   CA     ILE     A     35   1.0      87.62              1.8   \n",
      "13    ATOM     13    C     ILE     A     35   1.0      86.77              1.8   \n",
      "14    ATOM     14    O     ILE     A     35   1.0      87.97              1.8   \n",
      "15    ATOM     15   CB     ILE     A     35   1.0      85.40              1.8   \n",
      "16    ATOM     16  CG1     ILE     A     35   1.0      83.74              1.8   \n",
      "17    ATOM     17  CG2     ILE     A     35   1.0      82.78              1.8   \n",
      "18    ATOM     18  CD1     ILE     A     35   1.0      86.05              1.8   \n",
      "19    ATOM     19    N     GLN     A     36   1.0      84.05              1.8   \n",
      "20    ATOM     20   CA     GLN     A     36   1.0      80.64              1.8   \n",
      "21    ATOM     21    C     GLN     A     36   1.0      76.97              1.8   \n",
      "22    ATOM     22    O     GLN     A     36   1.0      75.88              1.8   \n",
      "23    ATOM     23   CB     GLN     A     36   1.0      82.36              1.8   \n",
      "24    ATOM     24   CG     GLN     A     36   1.0      82.28              1.8   \n",
      "25    ATOM     25   CD     GLN     A     36   1.0      84.19              1.8   \n",
      "26    ATOM     26  OE1     GLN     A     36   1.0      84.78              1.8   \n",
      "27    ATOM     27  NE2     GLN     A     36   1.0      84.28              1.8   \n",
      "28    ATOM     28    N     ILE     A     37   1.0      74.96              1.8   \n",
      "29    ATOM     29   CA     ILE     A     37   1.0      73.86              1.8   \n",
      "...    ...    ...  ...     ...   ...    ...   ...        ...      ...     ...   \n",
      "1636  ATOM   1636    C     ILE     E    146   1.0      67.59              1.8   \n",
      "1637  ATOM   1637    O     ILE     E    146   1.0      71.30              1.8   \n",
      "1638  ATOM   1638   CB     ILE     E    146   1.0      61.58              1.8   \n",
      "1639  ATOM   1639  CG1     ILE     E    146   1.0      55.35              1.8   \n",
      "1640  ATOM   1640  CG2     ILE     E    146   1.0      64.16              1.8   \n",
      "1641  ATOM   1641  CD1     ILE     E    146   1.0      54.01              1.8   \n",
      "1642  ATOM   1642    N     ILE     G    144   1.0      52.94              1.8   \n",
      "1643  ATOM   1643   CA     ILE     G    144   1.0      52.46              1.8   \n",
      "1644  ATOM   1644    C     ILE     G    144   1.0      55.17              1.8   \n",
      "1645  ATOM   1645    O     ILE     G    144   1.0      58.61              1.8   \n",
      "1646  ATOM   1646   CB     ILE     G    144   1.0      50.64              1.8   \n",
      "1647  ATOM   1647  CG1     ILE     G    144   1.0      46.70              1.8   \n",
      "1648  ATOM   1648  CG2     ILE     G    144   1.0      52.44              1.8   \n",
      "1649  ATOM   1649  CD1     ILE     G    144   1.0      49.00              1.8   \n",
      "1650  ATOM   1650    N     ASN     G    145   1.0      56.35              1.8   \n",
      "1651  ATOM   1651   CA     ASN     G    145   1.0      60.95              1.8   \n",
      "1652  ATOM   1652    C     ASN     G    145   1.0      59.71              1.8   \n",
      "1653  ATOM   1653    O     ASN     G    145   1.0      60.28              1.8   \n",
      "1654  ATOM   1654   CB     ASN     G    145   1.0      69.34              1.8   \n",
      "1655  ATOM   1655   CG     ASN     G    145   1.0      78.26              1.8   \n",
      "1656  ATOM   1656  OD1     ASN     G    145   1.0      82.98              1.8   \n",
      "1657  ATOM   1657  ND2     ASN     G    145   1.0      82.32              1.8   \n",
      "1658  ATOM   1658    N     ILE     G    146   1.0      62.39              1.8   \n",
      "1659  ATOM   1659   CA     ILE     G    146   1.0      67.04              1.8   \n",
      "1660  ATOM   1660    C     ILE     G    146   1.0      68.65              1.8   \n",
      "1661  ATOM   1661    O     ILE     G    146   1.0      73.16              1.8   \n",
      "1662  ATOM   1662   CB     ILE     G    146   1.0      66.91              1.8   \n",
      "1663  ATOM   1663  CG1     ILE     G    146   1.0      62.86              1.8   \n",
      "1664  ATOM   1664  CG2     ILE     G    146   1.0      71.49              1.8   \n",
      "1665  ATOM   1665  CD1     ILE     G    146   1.0      63.12              1.8   \n",
      "\n",
      "      charge  \n",
      "0        0.0  \n",
      "1        0.0  \n",
      "2        0.0  \n",
      "3        0.0  \n",
      "4        0.0  \n",
      "5        0.0  \n",
      "6        0.0  \n",
      "7        0.0  \n",
      "8        0.0  \n",
      "9        0.0  \n",
      "10       0.0  \n",
      "11       0.0  \n",
      "12       0.0  \n",
      "13       0.0  \n",
      "14       0.0  \n",
      "15       0.0  \n",
      "16       0.0  \n",
      "17       0.0  \n",
      "18       0.0  \n",
      "19       0.0  \n",
      "20       0.0  \n",
      "21       0.0  \n",
      "22       0.0  \n",
      "23       0.0  \n",
      "24       0.0  \n",
      "25       0.0  \n",
      "26       0.0  \n",
      "27       0.0  \n",
      "28       0.0  \n",
      "29       0.0  \n",
      "...      ...  \n",
      "1636     0.0  \n",
      "1637     0.0  \n",
      "1638     0.0  \n",
      "1639     0.0  \n",
      "1640     0.0  \n",
      "1641     0.0  \n",
      "1642     0.0  \n",
      "1643     0.0  \n",
      "1644     0.0  \n",
      "1645     0.0  \n",
      "1646     0.0  \n",
      "1647     0.0  \n",
      "1648     0.0  \n",
      "1649     0.0  \n",
      "1650     0.0  \n",
      "1651     0.0  \n",
      "1652     0.0  \n",
      "1653     0.0  \n",
      "1654     0.0  \n",
      "1655     0.0  \n",
      "1656     0.0  \n",
      "1657     0.0  \n",
      "1658     0.0  \n",
      "1659     0.0  \n",
      "1660     0.0  \n",
      "1661     0.0  \n",
      "1662     0.0  \n",
      "1663     0.0  \n",
      "1664     0.0  \n",
      "1665     0.0  \n",
      "\n",
      "[1666 rows x 11 columns]\n"
     ]
    }
   ],
   "source": [
    "print(M.data)"
   ]
  },
  {
   "cell_type": "markdown",
   "metadata": {},
   "source": [
    "Now, let's identify only the backbone atoms of chain A. atomselect accepts as parameters single strings, lists or “*” as wildcard. After this call, pos contains the coordinates of all selected atoms, and idx their indices. Another way to select atoms, is to use the query method. The following call will yield the same result as the atomselect above. The query methods follows the pandas query syntax, and allows to be more expressive. Any column stored in M.data can be addressed. "
   ]
  },
  {
   "cell_type": "code",
   "execution_count": 54,
   "metadata": {},
   "outputs": [],
   "source": [
    "pos, idx = M.atomselect(\"A\", \"*\", [\"CA\",\"C\",\"N\",\"O\"], get_index=True)\n",
    "pos, idx = M.query('chain == \"A\" and name == [\"CA\",\"C\",\"N\",\"O\"]', get_index=True)"
   ]
  },
  {
   "cell_type": "markdown",
   "metadata": {},
   "source": [
    "Now that we have identified indices of interest, we can save a subset of the initial pdb in a new one, or to create a new Molecule object containing only them."
   ]
  },
  {
   "cell_type": "code",
   "execution_count": 55,
   "metadata": {},
   "outputs": [],
   "source": [
    "M.write_pdb(\"chainA.pdb\", index=idx)\n",
    "M2 = M.get_subset(idx)"
   ]
  },
  {
   "cell_type": "markdown",
   "metadata": {},
   "source": [
    "Now that we have identified indices of interest, we can save a subset of the initial pdb in a new one, or to create a new Molecule object containing only them."
   ]
  },
  {
   "cell_type": "code",
   "execution_count": 17,
   "metadata": {},
   "outputs": [],
   "source": [
    "M.write_pdb(\"chainA.pdb\", index=idx2)\n",
    "M2 = M.get_subset(idx)"
   ]
  },
  {
   "cell_type": "markdown",
   "metadata": {},
   "source": [
    "multiple conformations may be available in the PDB. By default, the first one is set as current. Is is possible to set as current another one as follows:"
   ]
  },
  {
   "cell_type": "code",
   "execution_count": 14,
   "metadata": {},
   "outputs": [
    {
     "ename": "Exception",
     "evalue": "ERROR: position 2 requested, but only 1 conformations available",
     "output_type": "error",
     "traceback": [
      "\u001b[0;31m---------------------------------------------------------------------------\u001b[0m",
      "\u001b[0;31mException\u001b[0m                                 Traceback (most recent call last)",
      "\u001b[0;32m<ipython-input-14-62ce95703974>\u001b[0m in \u001b[0;36m<module>\u001b[0;34m()\u001b[0m\n\u001b[0;32m----> 1\u001b[0;31m \u001b[0mM\u001b[0m\u001b[0;34m.\u001b[0m\u001b[0mset_current\u001b[0m\u001b[0;34m(\u001b[0m\u001b[0;36m2\u001b[0m\u001b[0;34m)\u001b[0m\u001b[0;34m\u001b[0m\u001b[0m\n\u001b[0m\u001b[1;32m      2\u001b[0m \u001b[0mpos2\u001b[0m\u001b[0;34m,\u001b[0m \u001b[0midx2\u001b[0m \u001b[0;34m=\u001b[0m \u001b[0mM\u001b[0m\u001b[0;34m.\u001b[0m\u001b[0matomselect\u001b[0m\u001b[0;34m(\u001b[0m\u001b[0;34m\"A\"\u001b[0m\u001b[0;34m,\u001b[0m \u001b[0;34m\"*\"\u001b[0m\u001b[0;34m,\u001b[0m \u001b[0;34m[\u001b[0m\u001b[0;34m\"CA\"\u001b[0m\u001b[0;34m,\u001b[0m\u001b[0;34m\"C\"\u001b[0m\u001b[0;34m,\u001b[0m\u001b[0;34m\"N\"\u001b[0m\u001b[0;34m,\u001b[0m\u001b[0;34m\"O\"\u001b[0m\u001b[0;34m]\u001b[0m\u001b[0;34m,\u001b[0m \u001b[0mget_index\u001b[0m\u001b[0;34m=\u001b[0m\u001b[0mTrue\u001b[0m\u001b[0;34m)\u001b[0m\u001b[0;34m\u001b[0m\u001b[0m\n",
      "\u001b[0;32m/home/xdzl45/workspace/devel/biobox_notebook/biobox/classes/structure.py\u001b[0m in \u001b[0;36mset_current\u001b[0;34m(self, pos)\u001b[0m\n\u001b[1;32m     77\u001b[0m             \u001b[0mself\u001b[0m\u001b[0;34m.\u001b[0m\u001b[0mproperties\u001b[0m\u001b[0;34m[\u001b[0m\u001b[0;34m'center'\u001b[0m\u001b[0;34m]\u001b[0m \u001b[0;34m=\u001b[0m \u001b[0mself\u001b[0m\u001b[0;34m.\u001b[0m\u001b[0mget_center\u001b[0m\u001b[0;34m(\u001b[0m\u001b[0;34m)\u001b[0m\u001b[0;34m\u001b[0m\u001b[0m\n\u001b[1;32m     78\u001b[0m         \u001b[0;32melse\u001b[0m\u001b[0;34m:\u001b[0m\u001b[0;34m\u001b[0m\u001b[0m\n\u001b[0;32m---> 79\u001b[0;31m             \u001b[0;32mraise\u001b[0m \u001b[0mException\u001b[0m\u001b[0;34m(\u001b[0m\u001b[0;34m\"ERROR: position %s requested, but only %s conformations available\"\u001b[0m \u001b[0;34m%\u001b[0m\u001b[0;34m(\u001b[0m\u001b[0mpos\u001b[0m\u001b[0;34m,\u001b[0m \u001b[0mself\u001b[0m\u001b[0;34m.\u001b[0m\u001b[0mcoordinates\u001b[0m\u001b[0;34m.\u001b[0m\u001b[0mshape\u001b[0m\u001b[0;34m[\u001b[0m\u001b[0;36m0\u001b[0m\u001b[0;34m]\u001b[0m\u001b[0;34m)\u001b[0m\u001b[0;34m)\u001b[0m\u001b[0;34m\u001b[0m\u001b[0m\n\u001b[0m\u001b[1;32m     80\u001b[0m \u001b[0;34m\u001b[0m\u001b[0m\n\u001b[1;32m     81\u001b[0m     \u001b[0;32mdef\u001b[0m \u001b[0mget_xyz\u001b[0m\u001b[0;34m(\u001b[0m\u001b[0mself\u001b[0m\u001b[0;34m,\u001b[0m \u001b[0mindices\u001b[0m\u001b[0;34m=\u001b[0m\u001b[0;34m[\u001b[0m\u001b[0;34m]\u001b[0m\u001b[0;34m)\u001b[0m\u001b[0;34m:\u001b[0m\u001b[0;34m\u001b[0m\u001b[0m\n",
      "\u001b[0;31mException\u001b[0m: ERROR: position 2 requested, but only 1 conformations available"
     ]
    }
   ],
   "source": [
    "M.set_current(2)\n",
    "pos2, idx2 = M.atomselect(\"A\", \"*\", [\"CA\",\"C\",\"N\",\"O\"], get_index=True)"
   ]
  },
  {
   "cell_type": "markdown",
   "metadata": {},
   "source": [
    "After this new atomselect call, idx2 will be equal to idx1 (atom selected are still the same), but pos2 will be different from pos (atoms positions differ between different conformations). Unless otherwise specified, get_subset selects all the alternative conformations from the atoms of interest. get_subset can however also be instructed to select a subset of conformations. For instance, the following call will select only the conformations 0, 1 and 2 of atoms of interest."
   ]
  },
  {
   "cell_type": "code",
   "execution_count": 18,
   "metadata": {},
   "outputs": [
    {
     "ename": "Exception",
     "evalue": "ERROR: requested coordinate index 2, but only 1 are available",
     "output_type": "error",
     "traceback": [
      "\u001b[0;31m---------------------------------------------------------------------------\u001b[0m",
      "\u001b[0;31mException\u001b[0m                                 Traceback (most recent call last)",
      "\u001b[0;32m<ipython-input-18-ccd249a3d7f9>\u001b[0m in \u001b[0;36m<module>\u001b[0;34m()\u001b[0m\n\u001b[0;32m----> 1\u001b[0;31m \u001b[0mM2\u001b[0m \u001b[0;34m=\u001b[0m \u001b[0mM\u001b[0m\u001b[0;34m.\u001b[0m\u001b[0mget_subset\u001b[0m\u001b[0;34m(\u001b[0m\u001b[0midx\u001b[0m\u001b[0;34m,\u001b[0m \u001b[0mconformations\u001b[0m\u001b[0;34m=\u001b[0m\u001b[0;34m[\u001b[0m\u001b[0;36m0\u001b[0m\u001b[0;34m,\u001b[0m\u001b[0;36m1\u001b[0m\u001b[0;34m,\u001b[0m\u001b[0;36m2\u001b[0m\u001b[0;34m]\u001b[0m\u001b[0;34m)\u001b[0m\u001b[0;34m\u001b[0m\u001b[0m\n\u001b[0m",
      "\u001b[0;32m/home/xdzl45/workspace/devel/biobox_notebook/biobox/classes/molecule.py\u001b[0m in \u001b[0;36mget_subset\u001b[0;34m(self, idxs, conformations)\u001b[0m\n\u001b[1;32m   1111\u001b[0m                 \u001b[0mframes\u001b[0m \u001b[0;34m=\u001b[0m \u001b[0mconformations\u001b[0m\u001b[0;34m\u001b[0m\u001b[0m\n\u001b[1;32m   1112\u001b[0m             \u001b[0;32melse\u001b[0m\u001b[0;34m:\u001b[0m\u001b[0;34m\u001b[0m\u001b[0m\n\u001b[0;32m-> 1113\u001b[0;31m                 \u001b[0;32mraise\u001b[0m \u001b[0mException\u001b[0m\u001b[0;34m(\u001b[0m\u001b[0;34m\"ERROR: requested coordinate index %s, but only %s are available\"\u001b[0m \u001b[0;34m%\u001b[0m\u001b[0;34m(\u001b[0m\u001b[0mnp\u001b[0m\u001b[0;34m.\u001b[0m\u001b[0mmax\u001b[0m\u001b[0;34m(\u001b[0m\u001b[0mconformations\u001b[0m\u001b[0;34m)\u001b[0m\u001b[0;34m,\u001b[0m \u001b[0mlen\u001b[0m\u001b[0;34m(\u001b[0m\u001b[0mself\u001b[0m\u001b[0;34m.\u001b[0m\u001b[0mcoordinates\u001b[0m\u001b[0;34m)\u001b[0m\u001b[0;34m)\u001b[0m\u001b[0;34m)\u001b[0m\u001b[0;34m\u001b[0m\u001b[0m\n\u001b[0m\u001b[1;32m   1114\u001b[0m \u001b[0;34m\u001b[0m\u001b[0m\n\u001b[1;32m   1115\u001b[0m         \u001b[0midx\u001b[0m \u001b[0;34m=\u001b[0m \u001b[0mnp\u001b[0m\u001b[0;34m.\u001b[0m\u001b[0marange\u001b[0m\u001b[0;34m(\u001b[0m\u001b[0mlen\u001b[0m\u001b[0;34m(\u001b[0m\u001b[0midxs\u001b[0m\u001b[0;34m)\u001b[0m\u001b[0;34m)\u001b[0m\u001b[0;34m\u001b[0m\u001b[0m\n",
      "\u001b[0;31mException\u001b[0m: ERROR: requested coordinate index 2, but only 1 are available"
     ]
    }
   ],
   "source": [
    "M2 = M.get_subset(idx, conformations=[0,1,2])"
   ]
  },
  {
   "cell_type": "markdown",
   "metadata": {},
   "source": [
    "## protein conformations clustering"
   ]
  },
  {
   "cell_type": "markdown",
   "metadata": {},
   "source": [
    "BiobOx methods return numpy arrays. This means That you can directly benefit from data analysis tools in all major Python scientific computing packages. For instance, let's run a hierarchical clustering on the multi-PDB we previously loaded by first calculating an all-vs-all RMSD matrix."
   ]
  },
  {
   "cell_type": "code",
   "execution_count": null,
   "metadata": {},
   "outputs": [],
   "source": [
    "dist = M.rmsd_distance_matrix(flat=True)\n",
    "hierarchic_cluster = SCH.linkage(dist, method='single')\n",
    "flat_clusters = SCH.fcluster(hierarchic_cluster, 2.0, criterion='distance')"
   ]
  },
  {
   "cell_type": "markdown",
   "metadata": {},
   "source": [
    "# protein polyhedral assemblies"
   ]
  },
  {
   "cell_type": "markdown",
   "metadata": {},
   "source": [
    "We want to produce several protein tetrahedral assemblies, and compare them to each other. Now, let’s create a Multimer arranged according to a tetrahedral symmetry. To do so, we have to load information about the tetrahedral scaffold BiobOx will exploit to align six monomers. By default this information is stored in the file classes/polyhedron_database.dat, though the user can import their own database."
   ]
  },
  {
   "cell_type": "code",
   "execution_count": 56,
   "metadata": {},
   "outputs": [],
   "source": [
    "P = bb.Multimer()\n",
    "P.setup_polyhedron('Tetrahedron', M)\n",
    "P.generate_polyhedron(10,180,20,10)"
   ]
  },
  {
   "cell_type": "markdown",
   "metadata": {},
   "source": [
    "Now, P contains six proteins arranged as a tetrahedron having a radius of 10 Angstrom. Every subunit is rotated with respect of its specific position on the scaffold. Rotation angles are defined with respect of the molecule’s principal axes. Here, we rotate by 180 degrees around the first principal axis, 20 around the second, and 10 around the third. Let’s now build two new polyhedra with different radii and rotation angles:"
   ]
  },
  {
   "cell_type": "code",
   "execution_count": 20,
   "metadata": {},
   "outputs": [],
   "source": [
    "P.generate_polyhedron(10,180,50,65, add_conformation=True)\n",
    "P.generate_polyhedron(12,185,40,60, add_conformation=True)"
   ]
  },
  {
   "cell_type": "markdown",
   "metadata": {},
   "source": [
    "Since we set add_conformation=True, the atoms arrangement of the new multimers will be appended as new conformations. With add_conformation=False (default) the previous subunits arrangements gets overwritten."
   ]
  },
  {
   "cell_type": "markdown",
   "metadata": {},
   "source": [
    "Note: assemblies’ multiple conformations are treated by appending on each subunit its different conformation. BiobOx then sets on all subunits the same current position. "
   ]
  },
  {
   "cell_type": "markdown",
   "metadata": {},
   "source": [
    "Now, we want to calculate the RMSD between the created multimers’ alpha carbons. With these lines, dist_mat will contain the RMSD distance matrix between the multimers:"
   ]
  },
  {
   "cell_type": "code",
   "execution_count": 21,
   "metadata": {},
   "outputs": [],
   "source": [
    "idxs = P.atomselect(\"*\", \"*\" ,\"*\", \"CA\", get_index=True)[1]\n",
    "dist_mat = P.rmsd_distance_matrix(points_indices=idxs)"
   ]
  },
  {
   "cell_type": "markdown",
   "metadata": {},
   "source": [
    "Note that, as for the case of atomselect objects, a query method is also available. The same selection as the command above can be obtained with:"
   ]
  },
  {
   "cell_type": "code",
   "execution_count": 22,
   "metadata": {},
   "outputs": [],
   "source": [
    "idx = P.query('name == \"CA\"', get_index=True)[1]"
   ]
  },
  {
   "cell_type": "markdown",
   "metadata": {},
   "source": [
    "To select atoms from some specific units, the following command can be issued:"
   ]
  },
  {
   "cell_type": "code",
   "execution_count": 58,
   "metadata": {},
   "outputs": [],
   "source": [
    "idx = P.query('unit == [\"0\", \"3\", \"5\"] and name == \"CA\"', get_index=True)"
   ]
  },
  {
   "cell_type": "markdown",
   "metadata": {},
   "source": [
    "Subunits can also be grouped, and different groups can be rotated differently. In the following example, the tetrahedron’s chains A, B, C and D, E, F form different groups that are rotated independently."
   ]
  },
  {
   "cell_type": "code",
   "execution_count": 23,
   "metadata": {},
   "outputs": [],
   "source": [
    "P.conn_type = np.array([0, 0, 0, 1, 1, 1])\n",
    "P.generate_polyhedron(10, np.array([90,180]), np.array([0,0]), np.array([0,0]))"
   ]
  },
  {
   "cell_type": "markdown",
   "metadata": {},
   "source": [
    "Note that when more than one edge type is provided, rotation angles should be in the form of a numpy array having the same length as the amount of different groups in connection (values in conn_type are used to index the angles arrays)."
   ]
  },
  {
   "cell_type": "markdown",
   "metadata": {},
   "source": [
    "Polyhedral scaffolds are constituted of vertices connected by edges. By altering the position of the vertices, the scaffolds can be deformed (e.g. useful to model near-symmetries). In BiobOx, deformations are treated in terms of deformation vectors, i.e. unit-vectors indicating in which direction a vertex can move. Here, we will allow the first vertex to move radially. We will then build a tetrahedron, where this vertex is displaced from its initial position by its deformation vector, scaled by a constant (here, 5)."
   ]
  },
  {
   "cell_type": "code",
   "execution_count": 24,
   "metadata": {},
   "outputs": [],
   "source": [
    "P.add_deformation(0)\n",
    "P.generate_polyhedron(10, np.array([90,180]), np.array([0,0]), np.array([0,0]), deformation=[5])"
   ]
  },
  {
   "cell_type": "markdown",
   "metadata": {},
   "source": [
    "Note that add_deformation also accepts user-defined deformation vectors. To see how your scaffold looks like, a pdb file containing the vertices and an associated TCL script for VMD (drawing colored edges, as a function of grouping) can be produced."
   ]
  },
  {
   "cell_type": "code",
   "execution_count": 25,
   "metadata": {},
   "outputs": [],
   "source": [
    "P.write_poly_architecture(\"architecture\", scale=10, deformation=[5])"
   ]
  },
  {
   "cell_type": "markdown",
   "metadata": {},
   "source": [
    "This will generate two files architecture.pdb and architecture.tcl. The initial unit-sized scaffold will scaled by 10, and the first vertex moved away radially."
   ]
  },
  {
   "cell_type": "markdown",
   "metadata": {},
   "source": [
    "See also: this method was used to build polyhedral assemblies consistent with experimental data in I. Santhanagopalan I. et al., It takes a dimer to tango: Oligomeric small heat shock proteins dissociate to capture substrate, Journal of Biological Chemisty, 2018 "
   ]
  },
  {
   "cell_type": "markdown",
   "metadata": {},
   "source": [
    "## Super-coarse grain modelling"
   ]
  },
  {
   "cell_type": "markdown",
   "metadata": {},
   "source": [
    "In this example, we will arrange a group of cylinders in a ring. To do so, we have first to create a single collection of points arranged like a Cylinder. Unless otherwise specified (using the optional keyword radius), every point composing the cylinder (and any other convex point cloud) will have a radius of 1.4 Angstrom. To simulate a smooth surface, one can either increase the points radius, or their density. Here, we will use default values, and the resulting cylinder will then be rotated by 45 degrees along the x axis."
   ]
  },
  {
   "cell_type": "code",
   "execution_count": 26,
   "metadata": {},
   "outputs": [],
   "source": [
    "import numpy as np\n",
    "\n",
    "cylinder_length = 20\n",
    "cylinder_radius = 10\n",
    "C = bb.Cylinder(cylinder_length, cylinder_radius)\n",
    "C.rotate(45, 0, 0)"
   ]
  },
  {
   "cell_type": "markdown",
   "metadata": {},
   "source": [
    "We will now create an assembly loading ten copies of our template cylinder, arrange them in a 30 Angstrom-wide circle, and save the resulting structure into a PDB file."
   ]
  },
  {
   "cell_type": "code",
   "execution_count": 28,
   "metadata": {},
   "outputs": [],
   "source": [
    "A = bb.Assembly()\n",
    "A.load(C, 10)\n",
    "A.make_circular_symmetry(30)\n",
    "A.write_pdb(\"assembly.pdb\")"
   ]
  },
  {
   "cell_type": "markdown",
   "metadata": {},
   "source": [
    "We can now assess some of the assembly’s characteristics, for instance its height and width. This can be done by extracting all the assembly’s points coordinates in a unique numpy array."
   ]
  },
  {
   "cell_type": "code",
   "execution_count": 29,
   "metadata": {},
   "outputs": [],
   "source": [
    "xyz = A.get_all_xyz()\n",
    "width = np.max(xyz[:, 0]) - np.min(xyz[:, 0])\n",
    "height = np.max(xyz[:, 2]) - np.min(xyz[:, 2])"
   ]
  },
  {
   "cell_type": "markdown",
   "metadata": {},
   "source": [
    "An alternative way to measure assembly dimensions, it to profit of methods in Structure class. Here we collapse the Assembly’s units coordinates in a single Structure instance."
   ]
  },
  {
   "cell_type": "code",
   "execution_count": 30,
   "metadata": {},
   "outputs": [
    {
     "name": "stdout",
     "output_type": "stream",
     "text": [
      "[ 135.6         133.29258924   32.24406922]\n"
     ]
    }
   ],
   "source": [
    "S = A.make_structure()\n",
    "print(S.get_size())"
   ]
  },
  {
   "cell_type": "markdown",
   "metadata": {},
   "source": [
    "In case not all the subunits of the assembly are the same, a list of subunits can be loaded. In this case, we will load a Sphere (and call it “S”) as well as two identical cylinders (called “C1” and “C2”)."
   ]
  },
  {
   "cell_type": "code",
   "execution_count": 31,
   "metadata": {},
   "outputs": [],
   "source": [
    "sphere_radius = 20\n",
    "cylinder_radius = 5\n",
    "cylinder_length = 50\n",
    "\n",
    "S = bb.Sphere(sphere_radius)\n",
    "C = bb.Cylinder(cylinder_radius, cylinder_length)\n",
    "A2 = bb.Assembly()\n",
    "A2.load_list([S, C, C], [\"S\", \"C1\", \"C2\"])"
   ]
  },
  {
   "cell_type": "markdown",
   "metadata": {},
   "source": [
    "Now, we will arrange the three loaded structures so that the bases of two cylinders are in touch with the sphere, and one cylinder is rotated by 45 degrees with respect to the other."
   ]
  },
  {
   "cell_type": "code",
   "execution_count": 32,
   "metadata": {},
   "outputs": [],
   "source": [
    "A2.translate(0, 0, -cylinder_length/2.0-sphere_radius, [\"C1\", \"C2\"])\n",
    "A2.rotate(0.0, 45.0, 180.0, [\"C2\"])"
   ]
  },
  {
   "cell_type": "markdown",
   "metadata": {},
   "source": [
    "As you can see, translations (and rotations) can be applied to units subsets. In this case, we kept the sphere fixed, and only translated the cylinders, and then rotated just one of the two cylinders."
   ]
  },
  {
   "cell_type": "markdown",
   "metadata": {},
   "source": [
    "See also: this super-coarse grain approach was exploited to calculate the collision cross-section of curved chains of ellipsoids in M. A. McDowell et al., Characterisation of Shigella Spa33 and Thermotoga FliM/N reveals a new model for C-ring assembly in T3SS, Molecular Microbiology, 2015 (Fig.3)"
   ]
  },
  {
   "cell_type": "markdown",
   "metadata": {},
   "source": [
    "See also: a graphical representation of typical membrane protein arrangements was obtained combining super-coarse grain models and VMD-generated lipid bilayers, Fig.3 of C. Bechara and C. V. Robinson, Different Modes of Lipid Binding to Membrane Proteins Probed by Mass Spectrometry, JACS, 2015 "
   ]
  },
  {
   "cell_type": "markdown",
   "metadata": {},
   "source": [
    "## density map cutoff via Collision Cross Section"
   ]
  },
  {
   "cell_type": "markdown",
   "metadata": {},
   "source": [
    "Ion Mobility (IM) experiments report on a molecule’s collision cross section (CCS). Here we show how to relate IM data with a electron density 3D reconstruction obtained by Electron Microscopy (EM). \n",
    "We first import a GroEL density map EMD-1800.mrc."
   ]
  },
  {
   "cell_type": "code",
   "execution_count": 62,
   "metadata": {},
   "outputs": [],
   "source": [
    "D = bb.Density()\n",
    "D.import_map(\"EMD-1080.mrc\", \"mrc\")"
   ]
  },
  {
   "cell_type": "markdown",
   "metadata": {},
   "source": [
    "Depending on which threshold value one selects, the resulting isosurface will have a certain volume and CCS. We now compute the map’s relationship between threshold, volume and CCS with 100 equally spaced threshold values. This might take several minutes, depending on map size (by default, a scan between minimal and maximal map intensity is performed). Obtained values will be returned in a numpy array containining as columns [threshold, volume, CCS]. This will also be stored in self.properties[‘scan’], for future usage."
   ]
  },
  {
   "cell_type": "code",
   "execution_count": 35,
   "metadata": {},
   "outputs": [
    {
     "name": "stdout",
     "output_type": "stream",
     "text": [
      "placed!\n",
      "thresh: 0.0, vol=0, ccs=0 (97575 points)\n",
      "placed!\n",
      "thresh: 0.0736101986131, vol=0, ccs=0 (92541 points)\n",
      "placed!\n",
      "thresh: 0.147220397226, vol=0, ccs=0 (89590 points)\n",
      "placed!\n",
      "thresh: 0.220830595839, vol=0, ccs=0 (87380 points)\n",
      "placed!\n",
      "thresh: 0.294440794452, vol=0, ccs=0 (85549 points)\n",
      "placed!\n",
      "thresh: 0.368050993065, vol=0, ccs=0 (83954 points)\n",
      "placed!\n",
      "thresh: 0.441661191678, vol=0, ccs=0 (82397 points)\n",
      "placed!\n",
      "thresh: 0.515271390291, vol=0, ccs=0 (80944 points)\n",
      "placed!\n",
      "thresh: 0.588881588904, vol=0, ccs=0 (79659 points)\n",
      "placed!\n",
      "thresh: 0.662491787518, vol=0, ccs=0 (78461 points)\n",
      "placed!\n",
      "thresh: 0.736101986131, vol=0, ccs=0 (77295 points)\n",
      "placed!\n",
      "thresh: 0.809712184744, vol=0, ccs=0 (76027 points)\n",
      "placed!\n",
      "thresh: 0.883322383357, vol=0, ccs=0 (74851 points)\n",
      "placed!\n",
      "thresh: 0.95693258197, vol=0, ccs=0 (73746 points)\n",
      "placed!\n",
      "thresh: 1.03054278058, vol=0, ccs=0 (72632 points)\n",
      "placed!\n",
      "thresh: 1.1041529792, vol=0, ccs=0 (71621 points)\n",
      "placed!\n",
      "thresh: 1.17776317781, vol=0, ccs=0 (70546 points)\n",
      "placed!\n",
      "thresh: 1.25137337642, vol=0, ccs=0 (69483 points)\n",
      "placed!\n",
      "thresh: 1.32498357504, vol=0, ccs=0 (68500 points)\n",
      "placed!\n",
      "thresh: 1.39859377365, vol=0, ccs=0 (67401 points)\n",
      "placed!\n",
      "thresh: 1.47220397226, vol=0, ccs=0 (66414 points)\n",
      "placed!\n",
      "thresh: 1.54581417087, vol=0, ccs=0 (65336 points)\n",
      "placed!\n",
      "thresh: 1.61942436949, vol=0, ccs=0 (64294 points)\n",
      "placed!\n",
      "thresh: 1.6930345681, vol=0, ccs=0 (63173 points)\n",
      "placed!\n",
      "thresh: 1.76664476671, vol=0, ccs=0 (62035 points)\n",
      "placed!\n",
      "thresh: 1.84025496533, vol=0, ccs=0 (60771 points)\n",
      "placed!\n",
      "thresh: 1.91386516394, vol=0, ccs=0 (59691 points)\n",
      "placed!\n",
      "thresh: 1.98747536255, vol=0, ccs=0 (58545 points)\n",
      "placed!\n",
      "thresh: 2.06108556117, vol=0, ccs=0 (57418 points)\n",
      "placed!\n",
      "thresh: 2.13469575978, vol=0, ccs=0 (56341 points)\n",
      "placed!\n",
      "thresh: 2.20830595839, vol=0, ccs=0 (55294 points)\n",
      "placed!\n",
      "thresh: 2.281916157, vol=0, ccs=0 (54339 points)\n",
      "placed!\n",
      "thresh: 2.35552635562, vol=0, ccs=0 (53469 points)\n",
      "placed!\n",
      "thresh: 2.42913655423, vol=0, ccs=0 (52509 points)\n",
      "placed!\n",
      "thresh: 2.50274675284, vol=0, ccs=0 (51587 points)\n",
      "placed!\n",
      "thresh: 2.57635695146, vol=0, ccs=0 (50673 points)\n",
      "placed!\n",
      "thresh: 2.64996715007, vol=0, ccs=0 (49693 points)\n",
      "placed!\n",
      "thresh: 2.72357734868, vol=0, ccs=0 (48743 points)\n",
      "placed!\n",
      "thresh: 2.7971875473, vol=0, ccs=0 (47765 points)\n",
      "placed!\n",
      "thresh: 2.87079774591, vol=0, ccs=0 (46767 points)\n",
      "placed!\n",
      "thresh: 2.94440794452, vol=0, ccs=0 (45762 points)\n",
      "placed!\n",
      "thresh: 3.01801814314, vol=0, ccs=0 (44760 points)\n",
      "placed!\n",
      "thresh: 3.09162834175, vol=0, ccs=0 (43781 points)\n",
      "placed!\n",
      "thresh: 3.16523854036, vol=0, ccs=0 (42756 points)\n",
      "placed!\n",
      "thresh: 3.23884873897, vol=0, ccs=0 (41762 points)\n",
      "placed!\n",
      "thresh: 3.31245893759, vol=0, ccs=0 (40770 points)\n",
      "placed!\n",
      "thresh: 3.3860691362, vol=0, ccs=0 (39724 points)\n",
      "placed!\n",
      "thresh: 3.45967933481, vol=0, ccs=0 (38702 points)\n",
      "placed!\n",
      "thresh: 3.53328953343, vol=0, ccs=0 (37694 points)\n",
      "placed!\n",
      "thresh: 3.60689973204, vol=0, ccs=0 (36566 points)\n",
      "placed!\n",
      "thresh: 3.68050993065, vol=0, ccs=0 (35422 points)\n",
      "placed!\n",
      "thresh: 3.75412012927, vol=0, ccs=0 (34220 points)\n",
      "placed!\n",
      "thresh: 3.82773032788, vol=0, ccs=0 (33022 points)\n",
      "placed!\n",
      "thresh: 3.90134052649, vol=0, ccs=0 (31862 points)\n",
      "placed!\n",
      "thresh: 3.97495072511, vol=0, ccs=0 (30612 points)\n",
      "placed!\n",
      "thresh: 4.04856092372, vol=0, ccs=0 (29374 points)\n",
      "placed!\n",
      "thresh: 4.12217112233, vol=0, ccs=0 (28085 points)\n",
      "placed!\n",
      "thresh: 4.19578132094, vol=0, ccs=0 (26826 points)\n",
      "placed!\n",
      "thresh: 4.26939151956, vol=0, ccs=0 (25441 points)\n",
      "placed!\n",
      "thresh: 4.34300171817, vol=0, ccs=0 (24007 points)\n",
      "placed!\n",
      "thresh: 4.41661191678, vol=0, ccs=0 (22702 points)\n",
      "placed!\n",
      "thresh: 4.4902221154, vol=0, ccs=0 (21267 points)\n",
      "placed!\n",
      "thresh: 4.56383231401, vol=0, ccs=0 (19792 points)\n",
      "placed!\n",
      "thresh: 4.63744251262, vol=0, ccs=0 (18484 points)\n",
      "placed!\n",
      "thresh: 4.71105271124, vol=0, ccs=0 (17244 points)\n",
      "placed!\n",
      "thresh: 4.78466290985, vol=0, ccs=0 (16036 points)\n",
      "placed!\n",
      "thresh: 4.85827310846, vol=0, ccs=0 (14840 points)\n",
      "placed!\n",
      "thresh: 4.93188330708, vol=0, ccs=0 (13562 points)\n",
      "placed!\n",
      "thresh: 5.00549350569, vol=0, ccs=0 (12370 points)\n",
      "placed!\n",
      "thresh: 5.0791037043, vol=0, ccs=0 (10989 points)\n",
      "placed!\n",
      "thresh: 5.15271390291, vol=0, ccs=0 (9860 points)\n",
      "placed!\n",
      "thresh: 5.22632410153, vol=0, ccs=0 (8666 points)\n",
      "placed!\n",
      "thresh: 5.29993430014, vol=0, ccs=0 (7480 points)\n",
      "placed!\n",
      "thresh: 5.37354449875, vol=0, ccs=0 (5730 points)\n",
      "placed!\n",
      "thresh: 5.44715469737, vol=0, ccs=0 (4822 points)\n",
      "placed!\n",
      "thresh: 5.52076489598, vol=0, ccs=0 (3260 points)\n",
      "placed!\n",
      "thresh: 5.59437509459, vol=0, ccs=0 (2244 points)\n",
      "placed!\n",
      "thresh: 5.66798529321, vol=0, ccs=0 (2030 points)\n",
      "placed!\n",
      "thresh: 5.74159549182, vol=0, ccs=0 (1830 points)\n",
      "placed!\n",
      "thresh: 5.81520569043, vol=0, ccs=0 (1518 points)\n",
      "placed!\n",
      "thresh: 5.88881588904, vol=0, ccs=0 (1412 points)\n",
      "placed!\n",
      "thresh: 5.96242608766, vol=0, ccs=0 (1300 points)\n",
      "placed!\n",
      "thresh: 6.03603628627, vol=0, ccs=0 (1170 points)\n",
      "placed!\n",
      "thresh: 6.10964648488, vol=0, ccs=0 (950 points)\n",
      "placed!\n",
      "thresh: 6.1832566835, vol=0, ccs=0 (712 points)\n",
      "placed!\n",
      "thresh: 6.25686688211, vol=0, ccs=0 (636 points)\n",
      "placed!\n",
      "thresh: 6.33047708072, vol=0, ccs=0 (532 points)\n",
      "placed!\n",
      "thresh: 6.40408727934, vol=0, ccs=0 (340 points)\n",
      "placed!\n",
      "thresh: 6.47769747795, vol=0, ccs=0 (68 points)\n",
      "thresh: 6.55130767656, vol=0, ccs=0 (2 points)\n",
      "thresh: 6.62491787518, vol=0, ccs=0 (2 points)\n",
      "thresh: 6.69852807379, vol=0, ccs=0 (2 points)\n",
      "thresh: 6.7721382724, vol=0, ccs=0 (2 points)\n",
      "thresh: 6.84574847101, vol=0, ccs=0 (2 points)\n",
      "thresh: 6.91935866963, vol=0, ccs=0 (2 points)\n",
      "thresh: 6.99296886824, vol=0, ccs=0 (2 points)\n",
      "thresh: 7.06657906685, vol=0, ccs=0 (2 points)\n",
      "thresh: 7.14018926547, vol=0, ccs=0 (2 points)\n",
      "thresh: 7.21379946408, vol=0, ccs=0 (2 points)\n",
      "thresh: 7.28740966269, vol=0, ccs=0 (2 points)\n"
     ]
    }
   ],
   "source": [
    "tvc = D.threshold_vol_ccs(low=0, sampling_points=100)"
   ]
  },
  {
   "cell_type": "markdown",
   "metadata": {},
   "source": [
    "Let’s predict the density CCS using a fitted mass-based threshold, and compare it the known CCS of 24500 A^2. This requires providing the map’s resolution (here, 5.4 Angstrom) and the mass of GroEL (801 kDa). The procedure interrogates the data previously stored in D.properties[‘scan’]."
   ]
  },
  {
   "cell_type": "code",
   "execution_count": 36,
   "metadata": {},
   "outputs": [
    {
     "ename": "AttributeError",
     "evalue": "'Density' object has no attribute 'predict_ccs_from_mass'",
     "output_type": "error",
     "traceback": [
      "\u001b[0;31m---------------------------------------------------------------------------\u001b[0m",
      "\u001b[0;31mAttributeError\u001b[0m                            Traceback (most recent call last)",
      "\u001b[0;32m<ipython-input-36-cfd717bd5ede>\u001b[0m in \u001b[0;36m<module>\u001b[0;34m()\u001b[0m\n\u001b[0;32m----> 1\u001b[0;31m \u001b[0mccs_mass\u001b[0m\u001b[0;34m,\u001b[0m \u001b[0mfitted_mass_thresh\u001b[0m \u001b[0;34m=\u001b[0m \u001b[0mD\u001b[0m\u001b[0;34m.\u001b[0m\u001b[0mpredict_ccs_from_mass\u001b[0m\u001b[0;34m(\u001b[0m\u001b[0;36m5.4\u001b[0m\u001b[0;34m,\u001b[0m \u001b[0;36m801\u001b[0m\u001b[0;34m)\u001b[0m\u001b[0;34m\u001b[0m\u001b[0m\n\u001b[0m\u001b[1;32m      2\u001b[0m \u001b[0merror\u001b[0m \u001b[0;34m=\u001b[0m \u001b[0;36m100\u001b[0m \u001b[0;34m*\u001b[0m \u001b[0;34m(\u001b[0m\u001b[0mnp\u001b[0m\u001b[0;34m.\u001b[0m\u001b[0mabs\u001b[0m\u001b[0;34m(\u001b[0m\u001b[0mccs_mass\u001b[0m \u001b[0;34m-\u001b[0m \u001b[0;36m24500\u001b[0m\u001b[0;34m)\u001b[0m\u001b[0;34m/\u001b[0m\u001b[0;36m24500\u001b[0m\u001b[0;34m)\u001b[0m\u001b[0;34m\u001b[0m\u001b[0m\n",
      "\u001b[0;31mAttributeError\u001b[0m: 'Density' object has no attribute 'predict_ccs_from_mass'"
     ]
    }
   ],
   "source": [
    "ccs_mass, fitted_mass_thresh = D.predict_ccs_from_mass(5.4, 801)\n",
    "error = 100 * (np.abs(ccs_mass - 24500)/24500)"
   ]
  },
  {
   "cell_type": "markdown",
   "metadata": {},
   "source": [
    "Error should be typically less than 5%. Values greater than 8% indicate that the protein’s conformation is likely different between EM and IM. We can use fitted_mass_thresh to create a bead model, that can then be saved into a PDB."
   ]
  },
  {
   "cell_type": "code",
   "execution_count": 37,
   "metadata": {},
   "outputs": [
    {
     "ename": "NameError",
     "evalue": "name 'fitted_mass_thresh' is not defined",
     "output_type": "error",
     "traceback": [
      "\u001b[0;31m---------------------------------------------------------------------------\u001b[0m",
      "\u001b[0;31mNameError\u001b[0m                                 Traceback (most recent call last)",
      "\u001b[0;32m<ipython-input-37-3d64581a850f>\u001b[0m in \u001b[0;36m<module>\u001b[0;34m()\u001b[0m\n\u001b[0;32m----> 1\u001b[0;31m \u001b[0mD\u001b[0m\u001b[0;34m.\u001b[0m\u001b[0mplace_points\u001b[0m\u001b[0;34m(\u001b[0m\u001b[0mfitted_mass_thresh\u001b[0m\u001b[0;34m)\u001b[0m\u001b[0;34m\u001b[0m\u001b[0m\n\u001b[0m\u001b[1;32m      2\u001b[0m \u001b[0mD\u001b[0m\u001b[0;34m.\u001b[0m\u001b[0mwrite_pdb\u001b[0m\u001b[0;34m(\u001b[0m\u001b[0;34m\"model_ccs_mass.pdb\"\u001b[0m\u001b[0;34m)\u001b[0m\u001b[0;34m\u001b[0m\u001b[0m\n",
      "\u001b[0;31mNameError\u001b[0m: name 'fitted_mass_thresh' is not defined"
     ]
    }
   ],
   "source": [
    "D.place_points(fitted_mass_thresh)\n",
    "D.write_pdb(\"model_ccs_mass.pdb\")"
   ]
  },
  {
   "cell_type": "markdown",
   "metadata": {},
   "source": [
    "See also: this method is described in M. T. Degiacomi and J. L. P. Benesch, EMnIM: software for relating ion mobility mass spectrometry and electron microscopy data, Analyst, 2016 "
   ]
  },
  {
   "cell_type": "markdown",
   "metadata": {},
   "source": [
    "## calculating cross-linking distance"
   ]
  },
  {
   "cell_type": "markdown",
   "metadata": {},
   "source": [
    "Cross-linking experiments report on the distance between the side chain of specific amino-acids. This distance, measured by a cross-linker molecule, is however not a straight line, but a “shortest solvent accessible path”."
   ]
  },
  {
   "cell_type": "markdown",
   "metadata": {},
   "source": [
    "To identify in a structure which lysines may be cross-linked, we start loading it and identifying the location of all lysines’ NZ atoms:"
   ]
  },
  {
   "cell_type": "code",
   "execution_count": 38,
   "metadata": {},
   "outputs": [],
   "source": [
    "idx = M.atomselect(\"*\", \"LYS\", \"NZ\", use_resname=True, get_index=True)[1]"
   ]
  },
  {
   "cell_type": "markdown",
   "metadata": {},
   "source": [
    "To calculate the path distance between all these atoms, we must first define which protein atoms should be used for clash detection. Here, we select all backbone atoms as well as beta carbon ones. Furthermore, atoms buried in the protein core are also added (with densify=True). This makes the protein core more “dense”, reducing the likelihood that a path will find its way through the protein, instead of around it."
   ]
  },
  {
   "cell_type": "code",
   "execution_count": 40,
   "metadata": {},
   "outputs": [
    {
     "data": {
      "text/plain": [
       "array([ True,  True,  True, ...,  True,  True,  True], dtype=bool)"
      ]
     },
     "execution_count": 40,
     "metadata": {},
     "output_type": "execute_result"
    }
   ],
   "source": [
    "XL = bb.Xlink(M)\n",
    "XL.set_clashing_atoms(atoms=[\"CA\", \"C\", \"N\", \"O\", \"CB\"], densify=True)"
   ]
  },
  {
   "cell_type": "markdown",
   "metadata": {},
   "source": [
    "We then set up the grid used by the path detection algorithms. Here, we use a local search, using a cubic moving grid of 18 Angstrom per side. After this, the distance matrix path detection algorithm can be launched. We will use a lazy Theta* method, with flexible side chains, and path smoothing as postprocessing."
   ]
  },
  {
   "cell_type": "code",
   "execution_count": 41,
   "metadata": {},
   "outputs": [],
   "source": [
    "XL.setup_local_search(maxdist=18)\n",
    "distance_mat = XL.distance_matrix(idx, method=\"theta\", smooth=True, flexible_sidechain=True)"
   ]
  },
  {
   "cell_type": "markdown",
   "metadata": {},
   "source": [
    "distance_mat is the distance matrix between all lysines, sorted according to idx. It will contain -1 for lysine’s linking atoms too far to be encompassed by the moving grid, and -2 for failed path detection (e.g. because a linking atom is buried)."
   ]
  },
  {
   "cell_type": "markdown",
   "metadata": {},
   "source": [
    "See also: this method is presented and benchmarked in M. T. Degiacomi et al., Accommodating protein dynamics in the analysis of chemical cross-links, Structure, 2017 "
   ]
  }
 ],
 "metadata": {
  "kernelspec": {
   "display_name": "Python 3",
   "language": "python",
   "name": "python3"
  },
  "language_info": {
   "codemirror_mode": {
    "name": "ipython",
    "version": 2
   },
   "file_extension": ".py",
   "mimetype": "text/x-python",
   "name": "python",
   "nbconvert_exporter": "python",
   "pygments_lexer": "ipython2",
   "version": "2.7.12"
  }
 },
 "nbformat": 4,
 "nbformat_minor": 2
}

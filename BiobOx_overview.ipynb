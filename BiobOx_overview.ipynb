{
 "cells": [
  {
   "cell_type": "markdown",
   "metadata": {},
   "source": [
    "# An overview of BiobOx"
   ]
  },
  {
   "cell_type": "markdown",
   "metadata": {},
   "source": [
    "Welcome! In this notebook we will overview its main features, and point to relevant publications where they were used. BiobOx is developed by the Degiacomi group (www.degiacomi.org) in Durham University (UK), and is downloadable from Github, https://github.com/degiacom/biobox. Its API is available here: https://degiacom.github.io/biobox/"
   ]
  },
  {
   "cell_type": "markdown",
   "metadata": {},
   "source": [
    "This overview covers the following topics:\n",
    "\n",
    "* [Selecting atoms from a (multi)PDB](#select)\n",
    "* [Protein conformations clustering](#cluster)\n",
    "* [Protein polyhedral assemblies](#polyhedra)\n",
    "* [Super-coarse grain modelling](#supercg)\n",
    "* [Density map cutoff via Collision Cross Section](#density)\n",
    "* [Calculating cross-linking distances](#xlink)\n"
   ]
  },
  {
   "cell_type": "markdown",
   "metadata": {},
   "source": [
    "<div class=\"alert alert-info\">\n",
    "A publication about BiobOx is currently in preparation. In the meantime, if you use BiobOx in your work, please reference the Github repository.\n",
    "</div>"
   ]
  },
  {
   "cell_type": "markdown",
   "metadata": {},
   "source": [
    "Let's get starting by importing BiobOx along with the other packages needed in this notebook."
   ]
  },
  {
   "cell_type": "code",
   "execution_count": 2,
   "metadata": {},
   "outputs": [],
   "source": [
    "#import sys\n",
    "#sys.path.append('.')\n",
    "\n",
    "import numpy as np\n",
    "import biobox as bb"
   ]
  },
  {
   "cell_type": "markdown",
   "metadata": {},
   "source": [
    "## Selecting atoms from a (multi)PDB <a class=\"anchor\" id=\"select\"></a>"
   ]
  },
  {
   "cell_type": "markdown",
   "metadata": {},
   "source": [
    "Let’s load a protein in a PDB file, containing 20 frames of a molecular dynamics simulation of a small heat-shock protein."
   ]
  },
  {
   "cell_type": "code",
   "execution_count": 14,
   "metadata": {},
   "outputs": [],
   "source": [
    "M = bb.Molecule()\n",
    "M.import_pdb(\"HSP.pdb\")"
   ]
  },
  {
   "cell_type": "markdown",
   "metadata": {},
   "source": [
    "All the atomic coordinates are stored in `M.coordinates`, which is a directly accessible 3D array of size `(nb_conformations, nb_atoms, 3)`"
   ]
  },
  {
   "cell_type": "code",
   "execution_count": 13,
   "metadata": {},
   "outputs": [
    {
     "name": "stdout",
     "output_type": "stream",
     "text": [
      "(20, 1351, 3)\n"
     ]
    }
   ],
   "source": [
    "print(M.coordinates.shape)"
   ]
  },
  {
   "cell_type": "markdown",
   "metadata": {},
   "source": [
    "The properties of all atoms (i.e. anything that is not coordinates) are stored in the pandas data structure `M.data`."
   ]
  },
  {
   "cell_type": "code",
   "execution_count": 14,
   "metadata": {},
   "outputs": [
    {
     "name": "stdout",
     "output_type": "stream",
     "text": [
      "      atom  index name resname chain  resid  beta  occupancy atomtype  radius  \\\n",
      "0     ATOM      0    N     VAL     X      1   0.0        0.0              1.8   \n",
      "1     ATOM      1   CA     VAL     X      1   0.0        0.0              1.8   \n",
      "2     ATOM      2   CB     VAL     X      1   0.0        0.0              1.8   \n",
      "3     ATOM      3  CG1     VAL     X      1   0.0        0.0              1.8   \n",
      "4     ATOM      4  CG2     VAL     X      1   0.0        0.0              1.8   \n",
      "5     ATOM      5    C     VAL     X      1   0.0        0.0              1.8   \n",
      "6     ATOM      6    O     VAL     X      1   0.0        0.0              1.8   \n",
      "7     ATOM      7    N     SER     X      2   0.0        0.0              1.8   \n",
      "8     ATOM      8   CA     SER     X      2   0.0        0.0              1.8   \n",
      "9     ATOM      9   CB     SER     X      2   0.0        0.0              1.8   \n",
      "10    ATOM     10   OG     SER     X      2   0.0        0.0              1.8   \n",
      "11    ATOM     11    C     SER     X      2   0.0        0.0              1.8   \n",
      "12    ATOM     12    O     SER     X      2   0.0        0.0              1.8   \n",
      "13    ATOM     13    N     GLU     X      3   0.0        0.0              1.8   \n",
      "14    ATOM     14   CA     GLU     X      3   0.0        0.0              1.8   \n",
      "15    ATOM     15   CB     GLU     X      3   0.0        0.0              1.8   \n",
      "16    ATOM     16   CG     GLU     X      3   0.0        0.0              1.8   \n",
      "17    ATOM     17   CD     GLU     X      3   0.0        0.0              1.8   \n",
      "18    ATOM     18  OE1     GLU     X      3   0.0        0.0              1.8   \n",
      "19    ATOM     19  OE2     GLU     X      3   0.0        0.0              1.8   \n",
      "20    ATOM     20    C     GLU     X      3   0.0        0.0              1.8   \n",
      "21    ATOM     21    O     GLU     X      3   0.0        0.0              1.8   \n",
      "22    ATOM     22    N     ILE     X      4   0.0        0.0              1.8   \n",
      "23    ATOM     23   CA     ILE     X      4   0.0        0.0              1.8   \n",
      "24    ATOM     24   CB     ILE     X      4   0.0        0.0              1.8   \n",
      "25    ATOM     25  CG2     ILE     X      4   0.0        0.0              1.8   \n",
      "26    ATOM     26  CG1     ILE     X      4   0.0        0.0              1.8   \n",
      "27    ATOM     27  CD1     ILE     X      4   0.0        0.0              1.8   \n",
      "28    ATOM     28    C     ILE     X      4   0.0        0.0              1.8   \n",
      "29    ATOM     29    O     ILE     X      4   0.0        0.0              1.8   \n",
      "...    ...    ...  ...     ...   ...    ...   ...        ...      ...     ...   \n",
      "1321  ATOM   1321    N     GLU     X    168   0.0        0.0              1.8   \n",
      "1322  ATOM   1322   CA     GLU     X    168   0.0        0.0              1.8   \n",
      "1323  ATOM   1323   CB     GLU     X    168   0.0        0.0              1.8   \n",
      "1324  ATOM   1324   CG     GLU     X    168   0.0        0.0              1.8   \n",
      "1325  ATOM   1325   CD     GLU     X    168   0.0        0.0              1.8   \n",
      "1326  ATOM   1326  OE1     GLU     X    168   0.0        0.0              1.8   \n",
      "1327  ATOM   1327  OE2     GLU     X    168   0.0        0.0              1.8   \n",
      "1328  ATOM   1328    C     GLU     X    168   0.0        0.0              1.8   \n",
      "1329  ATOM   1329    O     GLU     X    168   0.0        0.0              1.8   \n",
      "1330  ATOM   1330    N     ALA     X    169   0.0        0.0              1.8   \n",
      "1331  ATOM   1331   CA     ALA     X    169   0.0        0.0              1.8   \n",
      "1332  ATOM   1332   CB     ALA     X    169   0.0        0.0              1.8   \n",
      "1333  ATOM   1333    C     ALA     X    169   0.0        0.0              1.8   \n",
      "1334  ATOM   1334    O     ALA     X    169   0.0        0.0              1.8   \n",
      "1335  ATOM   1335    N     PRO     X    170   0.0        0.0              1.8   \n",
      "1336  ATOM   1336   CD     PRO     X    170   0.0        0.0              1.8   \n",
      "1337  ATOM   1337   CG     PRO     X    170   0.0        0.0              1.8   \n",
      "1338  ATOM   1338   CB     PRO     X    170   0.0        0.0              1.8   \n",
      "1339  ATOM   1339   CA     PRO     X    170   0.0        0.0              1.8   \n",
      "1340  ATOM   1340    C     PRO     X    170   0.0        0.0              1.8   \n",
      "1341  ATOM   1341    O     PRO     X    170   0.0        0.0              1.8   \n",
      "1342  ATOM   1342    N     MET     X    171   0.0        0.0              1.8   \n",
      "1343  ATOM   1343   CA     MET     X    171   0.0        0.0              1.8   \n",
      "1344  ATOM   1344   CB     MET     X    171   0.0        0.0              1.8   \n",
      "1345  ATOM   1345   CG     MET     X    171   0.0        0.0              1.8   \n",
      "1346  ATOM   1346   SD     MET     X    171   0.0        0.0              1.8   \n",
      "1347  ATOM   1347   CE     MET     X    171   0.0        0.0              1.8   \n",
      "1348  ATOM   1348    C     MET     X    171   0.0        0.0              1.8   \n",
      "1349  ATOM   1349    O     MET     X    171   0.0        0.0              1.8   \n",
      "1350  ATOM   1350  OXT     MET     X    171   0.0        0.0              1.8   \n",
      "\n",
      "      charge  \n",
      "0        0.0  \n",
      "1        0.0  \n",
      "2        0.0  \n",
      "3        0.0  \n",
      "4        0.0  \n",
      "5        0.0  \n",
      "6        0.0  \n",
      "7        0.0  \n",
      "8        0.0  \n",
      "9        0.0  \n",
      "10       0.0  \n",
      "11       0.0  \n",
      "12       0.0  \n",
      "13       0.0  \n",
      "14       0.0  \n",
      "15       0.0  \n",
      "16       0.0  \n",
      "17       0.0  \n",
      "18       0.0  \n",
      "19       0.0  \n",
      "20       0.0  \n",
      "21       0.0  \n",
      "22       0.0  \n",
      "23       0.0  \n",
      "24       0.0  \n",
      "25       0.0  \n",
      "26       0.0  \n",
      "27       0.0  \n",
      "28       0.0  \n",
      "29       0.0  \n",
      "...      ...  \n",
      "1321     0.0  \n",
      "1322     0.0  \n",
      "1323     0.0  \n",
      "1324     0.0  \n",
      "1325     0.0  \n",
      "1326     0.0  \n",
      "1327     0.0  \n",
      "1328     0.0  \n",
      "1329     0.0  \n",
      "1330     0.0  \n",
      "1331     0.0  \n",
      "1332     0.0  \n",
      "1333     0.0  \n",
      "1334     0.0  \n",
      "1335     0.0  \n",
      "1336     0.0  \n",
      "1337     0.0  \n",
      "1338     0.0  \n",
      "1339     0.0  \n",
      "1340     0.0  \n",
      "1341     0.0  \n",
      "1342     0.0  \n",
      "1343     0.0  \n",
      "1344     0.0  \n",
      "1345     0.0  \n",
      "1346     0.0  \n",
      "1347     0.0  \n",
      "1348     0.0  \n",
      "1349     0.0  \n",
      "1350     0.0  \n",
      "\n",
      "[1351 rows x 11 columns]\n"
     ]
    }
   ],
   "source": [
    "print(M.data)"
   ]
  },
  {
   "cell_type": "markdown",
   "metadata": {},
   "source": [
    "Let's check how many chains this structure is made of:"
   ]
  },
  {
   "cell_type": "code",
   "execution_count": 15,
   "metadata": {},
   "outputs": [
    {
     "name": "stdout",
     "output_type": "stream",
     "text": [
      "['X']\n"
     ]
    }
   ],
   "source": [
    "print(np.unique(M.data[\"chain\"]))"
   ]
  },
  {
   "cell_type": "markdown",
   "metadata": {},
   "source": [
    "Well that's odd, small heat shock proteins come as a dimer... As it sometimes happens,the MD engine has replaced the chain assignment with a single symbol, `X`. Let's ask BiobOx to figure out how to split the protein in its two chains."
   ]
  },
  {
   "cell_type": "code",
   "execution_count": 16,
   "metadata": {},
   "outputs": [
    {
     "name": "stdout",
     "output_type": "stream",
     "text": [
      "['A' 'B']\n"
     ]
    }
   ],
   "source": [
    "M.guess_chain_split()\n",
    "print(np.unique(M.data[\"chain\"]))"
   ]
  },
  {
   "cell_type": "markdown",
   "metadata": {},
   "source": [
    "Ok, that's better, two chains have been found and assigned. Now, let's identify only the backbone atoms of chain A. `atomselect` accepts as parameters single strings, lists or `“*”` as wildcard. After this call, `pos` contains the coordinates of all selected atoms, and `idx` their indices. Another way to select atoms, is to use the `query` method. The following call will yield the same result as the `atomselect` above. The `query` method follows the pandas query syntax, and allows to be more expressive. Any column stored in `M.data` can be addressed. "
   ]
  },
  {
   "cell_type": "code",
   "execution_count": 17,
   "metadata": {},
   "outputs": [],
   "source": [
    "pos, idx = M.atomselect(\"A\", \"*\", [\"CA\",\"C\",\"N\",\"O\"], get_index=True)\n",
    "pos, idx = M.query('chain == \"A\" and name == [\"CA\",\"C\",\"N\",\"O\"]', get_index=True)"
   ]
  },
  {
   "cell_type": "markdown",
   "metadata": {},
   "source": [
    "Now that we have identified indices of interest, we can save a subset of the initial pdb in a new one, or to create a new `Molecule` object containing only them."
   ]
  },
  {
   "cell_type": "code",
   "execution_count": 18,
   "metadata": {},
   "outputs": [],
   "source": [
    "M.write_pdb(\"chainA.pdb\", index=idx)\n",
    "M2 = M.get_subset(idx)"
   ]
  },
  {
   "cell_type": "markdown",
   "metadata": {},
   "source": [
    "multiple conformations may be available in the PDB. By default, the first one is set as current. Is is possible to set as current another one as follows:"
   ]
  },
  {
   "cell_type": "code",
   "execution_count": 19,
   "metadata": {},
   "outputs": [],
   "source": [
    "M.set_current(2)\n",
    "pos2, idx2 = M.atomselect(\"A\", \"*\", [\"CA\",\"C\",\"N\",\"O\"], get_index=True)"
   ]
  },
  {
   "cell_type": "markdown",
   "metadata": {},
   "source": [
    "After this new `atomselect` call, `idx2` will be equal to `idx1` (atom selected are still the same), but `pos2` will be different from `pos` (atoms positions differ between different conformations). Unless otherwise specified, `get_subset` selects all the alternative conformations from the atoms of interest. `get_subset` can however also be instructed to select a subset of conformations. For instance, the following call will select only the conformations 0, 1 and 2 of atoms of interest."
   ]
  },
  {
   "cell_type": "code",
   "execution_count": 20,
   "metadata": {},
   "outputs": [],
   "source": [
    "M2 = M.get_subset(idx, conformations=[0,1,2])"
   ]
  },
  {
   "cell_type": "markdown",
   "metadata": {},
   "source": [
    "## protein conformations clustering <a class=\"anchor\" id=\"cluster\"></a>"
   ]
  },
  {
   "cell_type": "markdown",
   "metadata": {},
   "source": [
    "BiobOx methods return numpy arrays. This means that you can directly benefit from data analysis tools in all major Python scientific computing packages. For instance, let's run a hierarchical clustering on the multi-PDB we previously loaded by first calculating an all-vs-all RMSD matrix."
   ]
  },
  {
   "cell_type": "code",
   "execution_count": 23,
   "metadata": {},
   "outputs": [
    {
     "ename": "ImportError",
     "evalue": "cannot import name hierarchy",
     "output_type": "error",
     "traceback": [
      "\u001b[0;31m---------------------------------------------------------------------------\u001b[0m",
      "\u001b[0;31mImportError\u001b[0m                               Traceback (most recent call last)",
      "\u001b[0;32m<ipython-input-23-f0b5115c1a03>\u001b[0m in \u001b[0;36m<module>\u001b[0;34m()\u001b[0m\n\u001b[0;32m----> 1\u001b[0;31m \u001b[0;32mfrom\u001b[0m \u001b[0mscipy\u001b[0m\u001b[0;34m.\u001b[0m\u001b[0mspatial\u001b[0m \u001b[0;32mimport\u001b[0m \u001b[0mhierarchy\u001b[0m\u001b[0;34m\u001b[0m\u001b[0m\n\u001b[0m\u001b[1;32m      2\u001b[0m \u001b[0;34m\u001b[0m\u001b[0m\n\u001b[1;32m      3\u001b[0m \u001b[0mdist\u001b[0m \u001b[0;34m=\u001b[0m \u001b[0mM\u001b[0m\u001b[0;34m.\u001b[0m\u001b[0mrmsd_distance_matrix\u001b[0m\u001b[0;34m(\u001b[0m\u001b[0mflat\u001b[0m\u001b[0;34m=\u001b[0m\u001b[0mTrue\u001b[0m\u001b[0;34m)\u001b[0m\u001b[0;34m\u001b[0m\u001b[0m\n\u001b[1;32m      4\u001b[0m \u001b[0mhierarchic_cluster\u001b[0m \u001b[0;34m=\u001b[0m \u001b[0mhierarchy\u001b[0m\u001b[0;34m.\u001b[0m\u001b[0mlinkage\u001b[0m\u001b[0;34m(\u001b[0m\u001b[0mdist\u001b[0m\u001b[0;34m,\u001b[0m \u001b[0mmethod\u001b[0m\u001b[0;34m=\u001b[0m\u001b[0;34m'single'\u001b[0m\u001b[0;34m)\u001b[0m\u001b[0;34m\u001b[0m\u001b[0m\n\u001b[1;32m      5\u001b[0m \u001b[0mflat_clusters\u001b[0m \u001b[0;34m=\u001b[0m \u001b[0mhierarchy\u001b[0m\u001b[0;34m.\u001b[0m\u001b[0mfcluster\u001b[0m\u001b[0;34m(\u001b[0m\u001b[0mhierarchic_cluster\u001b[0m\u001b[0;34m,\u001b[0m \u001b[0;36m2.0\u001b[0m\u001b[0;34m,\u001b[0m \u001b[0mcriterion\u001b[0m\u001b[0;34m=\u001b[0m\u001b[0;34m'distance'\u001b[0m\u001b[0;34m)\u001b[0m\u001b[0;34m\u001b[0m\u001b[0m\n",
      "\u001b[0;31mImportError\u001b[0m: cannot import name hierarchy"
     ]
    }
   ],
   "source": [
    "from scipy.spatial import hierarchy\n",
    "\n",
    "dist = M.rmsd_distance_matrix(flat=True)\n",
    "hierarchic_cluster = hierarchy.linkage(dist, method='single')\n",
    "flat_clusters = hierarchy.fcluster(hierarchic_cluster, 2.0, criterion='distance')"
   ]
  },
  {
   "cell_type": "markdown",
   "metadata": {},
   "source": [
    "## protein polyhedral assemblies <a class=\"anchor\" id=\"polyhedra\"></a>"
   ]
  },
  {
   "cell_type": "markdown",
   "metadata": {},
   "source": [
    "We want to produce several protein tetrahedral assemblies, and compare them to each other. Now, let’s create a `Multimer` arranged according to a tetrahedral symmetry. To do so, we have to load information about the tetrahedral scaffold BiobOx will exploit to align six monomers. By default this information is stored in the file `classes/polyhedron_database.dat` (along with many more symmetries), though the user can import their own database."
   ]
  },
  {
   "cell_type": "code",
   "execution_count": 24,
   "metadata": {},
   "outputs": [],
   "source": [
    "P = bb.Multimer()\n",
    "P.setup_polyhedron('Tetrahedron', M)\n",
    "P.generate_polyhedron(10, 180, 20, 10)"
   ]
  },
  {
   "cell_type": "markdown",
   "metadata": {},
   "source": [
    "Now, `P` contains six proteins arranged as a tetrahedron having a radius of 10 Angstrom. Every subunit is rotated with respect of its specific position on the scaffold. Rotation angles are defined with respect of the molecule’s principal axes. Here, we rotate by 180 degrees around the first principal axis, 20 around the second, and 10 around the third. Let’s now build two new polyhedra with different radii and rotation angles:"
   ]
  },
  {
   "cell_type": "code",
   "execution_count": 25,
   "metadata": {},
   "outputs": [],
   "source": [
    "P.generate_polyhedron(10, 180, 50, 65, add_conformation=True)\n",
    "P.generate_polyhedron(12, 185, 40, 60, add_conformation=True)"
   ]
  },
  {
   "cell_type": "markdown",
   "metadata": {},
   "source": [
    "Since we set `add_conformation=True`, the atoms arrangement of the new multimers will be appended as new conformations. With `add_conformation=False` (default) the previous subunits arrangements gets overwritten. Note that assemblies’ multiple conformations are treated by appending on each subunit its different conformation. BiobOx then sets on all subunits the same current position. "
   ]
  },
  {
   "cell_type": "markdown",
   "metadata": {},
   "source": [
    "Now, we want to calculate the RMSD between the created multimers’ alpha carbons. With these lines, `dist_mat` will contain the RMSD distance matrix between the multimers:"
   ]
  },
  {
   "cell_type": "code",
   "execution_count": 26,
   "metadata": {},
   "outputs": [],
   "source": [
    "idxs = P.atomselect(\"*\", \"*\" ,\"*\", \"CA\", get_index=True)[1]\n",
    "dist_mat = P.rmsd_distance_matrix(points_indices=idxs)"
   ]
  },
  {
   "cell_type": "markdown",
   "metadata": {},
   "source": [
    "Note that, as for the case of `atomselect` applied to `Molecule` objects, a `query` method is also available. The same selection as the command above can be obtained with:"
   ]
  },
  {
   "cell_type": "code",
   "execution_count": 27,
   "metadata": {},
   "outputs": [],
   "source": [
    "idx = P.query('name == \"CA\"', get_index=True)[1]"
   ]
  },
  {
   "cell_type": "markdown",
   "metadata": {},
   "source": [
    "To select atoms from some specific units, the following command can be issued:"
   ]
  },
  {
   "cell_type": "code",
   "execution_count": 28,
   "metadata": {},
   "outputs": [],
   "source": [
    "idx = P.query('unit == [\"0\", \"3\", \"5\"] and name == \"CA\"', get_index=True)"
   ]
  },
  {
   "cell_type": "markdown",
   "metadata": {},
   "source": [
    "Subunits can also be grouped, and different groups can be rotated differently. In the following example, the tetrahedron’s chains A, B, C and D, E, F form different groups that are rotated independently."
   ]
  },
  {
   "cell_type": "code",
   "execution_count": 29,
   "metadata": {},
   "outputs": [],
   "source": [
    "P.conn_type = np.array([0, 0, 0, 1, 1, 1])\n",
    "P.generate_polyhedron(10, np.array([90,180]), np.array([0,0]), np.array([0,0]))"
   ]
  },
  {
   "cell_type": "markdown",
   "metadata": {},
   "source": [
    "Note that when more than one edge type is provided, rotation angles should be in the form of a numpy array having the same length as the amount of different groups in connection (values in `conn_type` are used to index the angles arrays)."
   ]
  },
  {
   "cell_type": "markdown",
   "metadata": {},
   "source": [
    "Polyhedral scaffolds are constituted of vertices connected by edges. By altering the position of the vertices, the scaffolds can be deformed (e.g. useful to model near-symmetries). In BiobOx, deformations are treated in terms of deformation vectors, i.e. unit-vectors indicating in which direction a vertex can move. Here, we will allow the first vertex to move radially. We will then build a tetrahedron, where this vertex is displaced from its initial position by its deformation vector, scaled by a constant (here, 5)."
   ]
  },
  {
   "cell_type": "code",
   "execution_count": 30,
   "metadata": {},
   "outputs": [],
   "source": [
    "P.add_deformation(0)\n",
    "P.generate_polyhedron(10, np.array([90,180]), np.array([0,0]), np.array([0,0]), deformation=[5])"
   ]
  },
  {
   "cell_type": "markdown",
   "metadata": {},
   "source": [
    "Note that add_deformation also accepts user-defined deformation vectors. To see how your scaffold looks like, a pdb file containing the vertices and an associated TCL script for VMD (drawing colored edges, as a function of grouping) can be produced."
   ]
  },
  {
   "cell_type": "code",
   "execution_count": 31,
   "metadata": {},
   "outputs": [],
   "source": [
    "P.write_poly_architecture(\"architecture\", scale=10, deformation=[5])"
   ]
  },
  {
   "cell_type": "markdown",
   "metadata": {},
   "source": [
    "This will generate two files `architecture.pdb` and `architecture.tcl`. The initial unit-sized scaffold will scaled by 10, and the first vertex moved away radially."
   ]
  },
  {
   "cell_type": "markdown",
   "metadata": {},
   "source": [
    "<div class=\"alert alert-info\">\n",
    "    <b>See also</b> : this method was used to build polyhedral assemblies consistent with experimental data in\n",
    "  <a href=\"https://www.jbc.org/article/S0021-9258(20)31083-8/fulltext\">I. Santhanagopalan I. et al., It takes a dimer to tango: Oligomeric small heat shock proteins dissociate to capture substrate, Journal of Biological Chemisty, 2018 </a>.\n",
    "</div>"
   ]
  },
  {
   "cell_type": "markdown",
   "metadata": {},
   "source": [
    "## Super-coarse grain modelling <a class=\"anchor\" id=\"supercg\"></a>"
   ]
  },
  {
   "cell_type": "markdown",
   "metadata": {},
   "source": [
    "In this example, we will arrange a group of cylinders in a ring. To do so, we have first to create a single collection of points arranged like a cylinder. Unless otherwise specified (using the optional keyword radius), every point composing the `Cylinder` instance (and any other convex point cloud) will have a radius of 1.4 Angstrom. To simulate a smooth surface, one can either increase the points radius, or their density. Here, we will use default values, and the resulting cylinder will then be rotated by 45 degrees along the x axis."
   ]
  },
  {
   "cell_type": "code",
   "execution_count": 32,
   "metadata": {},
   "outputs": [],
   "source": [
    "cylinder_length = 20\n",
    "cylinder_radius = 10\n",
    "C = bb.Cylinder(cylinder_length, cylinder_radius)\n",
    "C.rotate(45, 0, 0)"
   ]
  },
  {
   "cell_type": "markdown",
   "metadata": {},
   "source": [
    "We will now create an assembly loading ten copies of our template cylinder, arrange them in a 30 Angstrom-wide circle, and save the resulting structure into a PDB file."
   ]
  },
  {
   "cell_type": "code",
   "execution_count": 33,
   "metadata": {},
   "outputs": [],
   "source": [
    "A = bb.Assembly()\n",
    "A.load(C, 10)\n",
    "A.make_circular_symmetry(30)\n",
    "A.write_pdb(\"assembly.pdb\")"
   ]
  },
  {
   "cell_type": "markdown",
   "metadata": {},
   "source": [
    "We can now assess some of the assembly’s characteristics, for instance its height and width. This can be done by extracting all the assembly’s points coordinates in a unique numpy array."
   ]
  },
  {
   "cell_type": "code",
   "execution_count": 34,
   "metadata": {},
   "outputs": [],
   "source": [
    "xyz = A.get_all_xyz()\n",
    "width = np.max(xyz[:, 0]) - np.min(xyz[:, 0])\n",
    "height = np.max(xyz[:, 2]) - np.min(xyz[:, 2])"
   ]
  },
  {
   "cell_type": "markdown",
   "metadata": {},
   "source": [
    "An alternative way to measure assembly dimensions, it to profit of methods in `Structure` class. Here we collapse the `Assembly` units coordinates in a single `Structure` instance."
   ]
  },
  {
   "cell_type": "code",
   "execution_count": 35,
   "metadata": {},
   "outputs": [
    {
     "name": "stdout",
     "output_type": "stream",
     "text": [
      "[ 135.6         133.29258924   32.24406922]\n"
     ]
    }
   ],
   "source": [
    "S = A.make_structure()\n",
    "print(S.get_size())"
   ]
  },
  {
   "cell_type": "markdown",
   "metadata": {},
   "source": [
    "In case not all the subunits of the assembly are the same, a list of subunits can be loaded. In this case, we will load a `Sphere` (and call it `S`) as well as two identical cylinders (called `C1` and `C2`)."
   ]
  },
  {
   "cell_type": "code",
   "execution_count": 36,
   "metadata": {},
   "outputs": [],
   "source": [
    "sphere_radius = 20\n",
    "cylinder_radius = 5\n",
    "cylinder_length = 50\n",
    "\n",
    "S = bb.Sphere(sphere_radius)\n",
    "C = bb.Cylinder(cylinder_radius, cylinder_length)\n",
    "A2 = bb.Assembly()\n",
    "A2.load_list([S, C, C], [\"S\", \"C1\", \"C2\"])"
   ]
  },
  {
   "cell_type": "markdown",
   "metadata": {},
   "source": [
    "Now, we will arrange the three loaded structures so that the bases of two cylinders are in touch with the sphere, and one cylinder is rotated by 45 degrees with respect to the other."
   ]
  },
  {
   "cell_type": "code",
   "execution_count": 37,
   "metadata": {},
   "outputs": [],
   "source": [
    "A2.translate(0, 0, -cylinder_length/2.0-sphere_radius, [\"C1\", \"C2\"])\n",
    "A2.rotate(0.0, 45.0, 180.0, [\"C2\"])"
   ]
  },
  {
   "cell_type": "markdown",
   "metadata": {},
   "source": [
    "As you can see, translations (and rotations) can be applied to units subsets. In this case, we kept the sphere fixed, and only translated the cylinders, and then rotated just one of the two cylinders."
   ]
  },
  {
   "cell_type": "markdown",
   "metadata": {},
   "source": [
    "<div class=\"alert alert-info\">\n",
    "    <b>See also</b> :  this super-coarse grain approach was exploited to calculate the collision cross-section of curved chains of ellipsoids in Fig.3 of\n",
    "  <a href=\"https://www.ncbi.nlm.nih.gov/pmc/articles/PMC4832279/\">M. A. McDowell et al., Characterisation of Shigella Spa33 and Thermotoga FliM/N reveals a new model for C-ring assembly in T3SS, Molecular Microbiology, 2015</a>.\n",
    "</div>"
   ]
  },
  {
   "cell_type": "markdown",
   "metadata": {},
   "source": [
    "<div class=\"alert alert-info\">\n",
    "    <b>See also</b> :  a graphical representation of typical membrane protein arrangements was obtained combining super-coarse grain models and VMD-generated lipid bilayers, Fig.3 of  \n",
    "  <a href=\"https://pubs.acs.org/doi/abs/10.1021/jacs.5b00420\">C. Bechara and C. V. Robinson, Different Modes of Lipid Binding to Membrane Proteins Probed by Mass Spectrometry, JACS, 2015</a>.\n",
    "</div>"
   ]
  },
  {
   "cell_type": "markdown",
   "metadata": {},
   "source": [
    "## Density map cutoff via Collision Cross Section <a class=\"anchor\" id=\"density\"></a>"
   ]
  },
  {
   "cell_type": "markdown",
   "metadata": {},
   "source": [
    "Ion Mobility (IM) experiments report on a molecule’s collision cross section (CCS). Here we show how to relate IM data with a electron density 3D reconstruction obtained by Electron Microscopy (EM). \n",
    "We first import a GroEL density map `EMD-1800.mrc`."
   ]
  },
  {
   "cell_type": "code",
   "execution_count": 3,
   "metadata": {},
   "outputs": [],
   "source": [
    "D = bb.Density()\n",
    "D.import_map(\"EMD-1080.mrc\", \"mrc\")"
   ]
  },
  {
   "cell_type": "markdown",
   "metadata": {},
   "source": [
    "Depending on which threshold value one selects, the resulting isosurface will have a certain volume and CCS. We now compute the map’s relationship between threshold, volume and CCS with 100 equally spaced threshold values. This might take several minutes, depending on map size (by default, a scan between minimal and maximal map intensity is performed). Obtained values will be returned in a numpy array containining as columns `[threshold, volume, CCS]`. This will also be stored in `self.properties[‘scan’]`, for future usage."
   ]
  },
  {
   "cell_type": "code",
   "execution_count": 4,
   "metadata": {},
   "outputs": [
    {
     "name": "stdout",
     "output_type": "stream",
     "text": [
      "placed!\n",
      "thresh: 0.0, vol=1920569.37623, ccs=29944129536.0 (97575 points)\n",
      "placed!\n",
      "thresh: 0.0736101986131, vol=1821485.12064, ccs=26937063424.0 (92541 points)\n",
      "placed!\n",
      "thresh: 0.147220397226, vol=1763400.56794, ccs=25223612416.0 (89590 points)\n",
      "placed!\n",
      "thresh: 0.220830595839, vol=1719901.12319, ccs=23948818432.0 (87380 points)\n",
      "placed!\n",
      "thresh: 0.294440794452, vol=1683861.53797, ccs=23022968832.0 (85549 points)\n",
      "placed!\n",
      "thresh: 0.368050993065, vol=1652467.14233, ccs=22108424192.0 (83954 points)\n",
      "placed!\n",
      "thresh: 0.441661191678, vol=1621820.70093, ccs=21338664960.0 (82397 points)\n",
      "placed!\n",
      "thresh: 0.515271390291, vol=1593221.29224, ccs=20593584128.0 (80944 points)\n",
      "placed!\n",
      "thresh: 0.588881588904, vol=1567928.62866, ccs=19963172864.0 (79659 points)\n",
      "placed!\n",
      "thresh: 0.662491787518, vol=1544348.38666, ccs=19349002240.0 (78461 points)\n",
      "placed!\n",
      "thresh: 0.736101986131, vol=1521398.00088, ccs=18778869760.0 (77295 points)\n",
      "placed!\n",
      "thresh: 0.809712184744, vol=1496439.94842, ccs=18132992000.0 (76027 points)\n",
      "placed!\n",
      "thresh: 0.883322383357, vol=1473292.73257, ccs=17628637184.0 (74851 points)\n",
      "placed!\n",
      "thresh: 0.95693258197, vol=1451543.0102, ccs=17045661696.0 (73746 points)\n",
      "placed!\n",
      "thresh: 1.03054278058, vol=1429616.14076, ccs=16551294976.0 (72632 points)\n",
      "placed!\n",
      "thresh: 1.1041529792, vol=1409716.62101, ccs=16157441024.0 (71621 points)\n",
      "placed!\n",
      "thresh: 1.17776317781, vol=1388557.38884, ccs=15646010368.0 (70546 points)\n",
      "placed!\n",
      "thresh: 1.25137337642, vol=1367634.35274, ccs=15163820032.0 (69483 points)\n",
      "placed!\n",
      "thresh: 1.32498357504, vol=1348285.95718, ccs=14752739328.0 (68500 points)\n",
      "placed!\n",
      "thresh: 1.39859377365, vol=1326654.33285, ccs=14227870720.0 (67401 points)\n",
      "placed!\n",
      "thresh: 1.47220397226, vol=1307227.20526, ccs=13869004800.0 (66414 points)\n",
      "placed!\n",
      "thresh: 1.54581417087, vol=1286008.92407, ccs=13435870208.0 (65336 points)\n",
      "placed!\n",
      "thresh: 1.61942436949, vol=1265499.23111, ccs=12985890816.0 (64294 points)\n",
      "placed!\n",
      "thresh: 1.6930345681, vol=1243434.58063, ccs=12549932032.0 (63173 points)\n",
      "placed!\n",
      "thresh: 1.76664476671, vol=1221035.31903, ccs=12090669056.0 (62035 points)\n",
      "placed!\n",
      "thresh: 1.84025496533, vol=1196155.9986, ccs=11615065088.0 (60771 points)\n",
      "placed!\n",
      "thresh: 1.91386516394, vol=1174898.35139, ccs=11217437696.0 (59691 points)\n",
      "placed!\n",
      "thresh: 1.98747536255, vol=1152341.62574, ccs=10802057216.0 (58545 points)\n",
      "placed!\n",
      "thresh: 2.06108556117, vol=1130158.87722, ccs=10360378368.0 (57418 points)\n",
      "placed!\n",
      "thresh: 2.13469575978, vol=1108960.27903, ccs=9966210048.0 (56341 points)\n",
      "placed!\n",
      "thresh: 2.20830595839, vol=1088352.17104, ccs=9609255936.0 (55294 points)\n",
      "placed!\n",
      "thresh: 2.281916157, vol=1069554.89967, ccs=9307998208.0 (54339 points)\n",
      "placed!\n",
      "thresh: 2.35552635562, vol=1052430.68386, ccs=9003972608.0 (53469 points)\n",
      "placed!\n",
      "thresh: 2.42913655423, vol=1033534.99746, ccs=8667117568.0 (52509 points)\n",
      "placed!\n",
      "thresh: 2.50274675284, vol=1015387.2653, ccs=8382299648.0 (51587 points)\n",
      "placed!\n",
      "thresh: 2.57635695146, vol=997396.997201, ccs=8072499200.0 (50673 points)\n",
      "placed!\n",
      "thresh: 2.64996715007, vol=978107.650661, ccs=7786642432.0 (49693 points)\n",
      "placed!\n",
      "thresh: 2.72357734868, vol=959408.79432, ccs=7470356480.0 (48743 points)\n",
      "placed!\n",
      "thresh: 2.7971875473, vol=940158.813793, ccs=7195214848.0 (47765 points)\n",
      "placed!\n",
      "thresh: 2.87079774591, vol=920515.173132, ccs=6871307776.0 (46767 points)\n",
      "placed!\n",
      "thresh: 2.94440794452, vol=900733.751425, ccs=6599038976.0 (45762 points)\n",
      "placed!\n",
      "thresh: 3.01801814314, vol=881011.378737, ccs=6307588096.0 (44760 points)\n",
      "placed!\n",
      "thresh: 3.09162834175, vol=861741.715203, ccs=6029259264.0 (43781 points)\n",
      "placed!\n",
      "thresh: 3.16523854036, vol=841566.633362, ccs=5750665216.0 (42756 points)\n",
      "placed!\n",
      "thresh: 3.23884873897, vol=822001.724728, ccs=5481577472.0 (41762 points)\n",
      "placed!\n",
      "thresh: 3.31245893759, vol=802476.182107, ccs=5224808960.0 (40770 points)\n",
      "placed!\n",
      "thresh: 3.3860691362, vol=781887.757126, ccs=4965596160.0 (39724 points)\n",
      "placed!\n",
      "thresh: 3.45967933481, vol=761771.724305, ccs=4709334016.0 (38702 points)\n",
      "placed!\n",
      "thresh: 3.53328953343, vol=741931.253577, ccs=4472127488.0 (37694 points)\n",
      "placed!\n",
      "thresh: 3.60689973204, vol=719728.822049, ccs=4209093888.0 (36566 points)\n",
      "placed!\n",
      "thresh: 3.68050993065, vol=697211.462413, ccs=3954347008.0 (35422 points)\n",
      "placed!\n",
      "thresh: 3.75412012927, vol=673552.488391, ccs=3676606976.0 (34220 points)\n",
      "placed!\n",
      "thresh: 3.82773032788, vol=649972.246395, ccs=3437789440.0 (33022 points)\n",
      "placed!\n",
      "thresh: 3.90134052649, vol=627139.958653, ccs=3198014208.0 (31862 points)\n",
      "placed!\n",
      "thresh: 3.97495072511, vol=602536.20031, ccs=2949807360.0 (30612 points)\n",
      "placed!\n",
      "thresh: 4.04856092372, vol=578168.638048, ccs=2711382016.0 (29374 points)\n",
      "placed!\n",
      "thresh: 4.12217112233, vol=552797.242445, ccs=2481716224.0 (28085 points)\n",
      "placed!\n",
      "thresh: 4.19578132094, vol=528016.337042, ccs=2267043584.0 (26826 points)\n",
      "placed!\n",
      "thresh: 4.26939151956, vol=500755.372798, ccs=2029743232.0 (25441 points)\n",
      "placed!\n",
      "thresh: 4.34300171817, vol=472529.941227, ccs=1811622784.0 (24007 points)\n",
      "placed!\n",
      "thresh: 4.41661191678, vol=446843.617518, ccs=1622204544.0 (22702 points)\n",
      "placed!\n",
      "thresh: 4.4902221154, vol=418598.50294, ccs=1416891264.0 (21267 points)\n",
      "placed!\n",
      "thresh: 4.56383231401, vol=389566.068096, ccs=1229539456.0 (19792 points)\n",
      "placed!\n",
      "thresh: 4.63744251262, vol=363820.695366, ccs=1072364352.0 (18484 points)\n",
      "placed!\n",
      "thresh: 4.71105271124, vol=339413.76709, ccs=932107840.0 (17244 points)\n",
      "placed!\n",
      "thresh: 4.78466290985, vol=315636.695027, ccs=811995456.0 (16036 points)\n",
      "placed!\n",
      "thresh: 4.85827310846, vol=292095.819045, ccs=690504896.0 (14840 points)\n",
      "placed!\n",
      "thresh: 4.93188330708, vol=266940.936515, ccs=580763840.0 (13562 points)\n",
      "placed!\n",
      "thresh: 5.00549350569, vol=243478.79256, ccs=484614528.0 (12370 points)\n",
      "placed!\n",
      "thresh: 5.0791037043, vol=216296.560343, ccs=381234400.0 (10989 points)\n",
      "placed!\n",
      "thresh: 5.15271390291, vol=194074.445808, ccs=304745248.0 (9860 points)\n",
      "placed!\n",
      "thresh: 5.22632410153, vol=170572.935839, ccs=236596736.0 (8666 points)\n",
      "placed!\n",
      "thresh: 5.29993430014, vol=147228.889923, ccs=175290000.0 (7480 points)\n",
      "placed!\n",
      "thresh: 5.37354449875, vol=112783.628243, ccs=102798800.0 (5730 points)\n",
      "placed!\n",
      "thresh: 5.44715469737, vol=94911.458183, ccs=73312968.0 (4822 points)\n",
      "placed!\n",
      "thresh: 5.52076489598, vol=64166.6017579, ccs=33244388.0 (3260 points)\n",
      "placed!\n",
      "thresh: 5.59437509459, vol=44168.6669769, ccs=15797225.0 (2244 points)\n",
      "placed!\n",
      "thresh: 5.66798529321, vol=39956.5035486, ccs=12944156.0 (2030 points)\n",
      "placed!\n",
      "thresh: 5.74159549182, vol=36019.9022138, ccs=10631672.0 (1830 points)\n",
      "placed!\n",
      "thresh: 5.81520569043, vol=29878.8041314, ccs=7247359.5 (1518 points)\n",
      "placed!\n",
      "thresh: 5.88881588904, vol=27792.405424, ccs=6377176.0 (1412 points)\n",
      "placed!\n",
      "thresh: 5.96242608766, vol=25587.9086765, ccs=5391466.0 (1300 points)\n",
      "placed!\n",
      "thresh: 6.03603628627, vol=23029.1178088, ccs=4363591.0 (1170 points)\n",
      "placed!\n",
      "thresh: 6.10964648488, vol=18698.8563405, ccs=2911701.0 (950 points)\n",
      "placed!\n",
      "thresh: 6.1832566835, vol=14014.300752, ccs=1600172.5 (712 points)\n",
      "placed!\n",
      "thresh: 6.25686688211, vol=12518.3922448, ccs=1288690.5 (636 points)\n",
      "placed!\n",
      "thresh: 6.33047708072, vol=10471.3595507, ccs=886636.1875 (532 points)\n",
      "placed!\n",
      "thresh: 6.40408727934, vol=6692.22226923, ccs=365527.21875 (340 points)\n",
      "placed!\n",
      "thresh: 6.47769747795, vol=1338.44445385, ccs=22968.8105469 (68 points)\n",
      "thresh: 6.55130767656, vol=0, ccs=0 (2 points)\n",
      "thresh: 6.62491787518, vol=0, ccs=0 (2 points)\n",
      "thresh: 6.69852807379, vol=0, ccs=0 (2 points)\n",
      "thresh: 6.7721382724, vol=0, ccs=0 (2 points)\n",
      "thresh: 6.84574847101, vol=0, ccs=0 (2 points)\n",
      "thresh: 6.91935866963, vol=0, ccs=0 (2 points)\n",
      "thresh: 6.99296886824, vol=0, ccs=0 (2 points)\n",
      "thresh: 7.06657906685, vol=0, ccs=0 (2 points)\n",
      "thresh: 7.14018926547, vol=0, ccs=0 (2 points)\n",
      "thresh: 7.21379946408, vol=0, ccs=0 (2 points)\n",
      "thresh: 7.28740966269, vol=0, ccs=0 (2 points)\n"
     ]
    }
   ],
   "source": [
    "tvc = D.threshold_vol_ccs(low=0, sampling_points=100)"
   ]
  },
  {
   "cell_type": "markdown",
   "metadata": {},
   "source": [
    "Let’s predict the density CCS using a fitted mass-based threshold, and compare it the known CCS of 24500 A^2. This requires providing the map’s resolution (here, 5.4 Angstrom) and the mass of GroEL (801 kDa). The procedure interrogates the data previously stored in `D.properties[‘scan’]`."
   ]
  },
  {
   "cell_type": "code",
   "execution_count": 8,
   "metadata": {},
   "outputs": [
    {
     "name": "stdout",
     "output_type": "stream",
     "text": [
      "0.0\n",
      "100.0\n"
     ]
    }
   ],
   "source": [
    "ccs_mass, fitted_mass_thresh = D.predict_ccs_from_mass(5.4, 801)\n",
    "print(ccs_mass)\n",
    "error = 100 * (np.abs(ccs_mass - 24500)/24500.)\n",
    "print(error)"
   ]
  },
  {
   "cell_type": "markdown",
   "metadata": {},
   "source": [
    "Error should be typically less than 5%. Values greater than 8% indicate that the protein’s conformation is likely different between EM and IM. We can use `fitted_mass_thresh` to create a bead model, that can then be saved into a PDB."
   ]
  },
  {
   "cell_type": "code",
   "execution_count": null,
   "metadata": {},
   "outputs": [],
   "source": [
    "D.place_points(fitted_mass_thresh)\n",
    "D.write_pdb(\"model_ccs_mass.pdb\")"
   ]
  },
  {
   "cell_type": "markdown",
   "metadata": {},
   "source": [
    "<div class=\"alert alert-info\">\n",
    "    <b>See also</b> :  this method is described in\n",
    "  <a href=\"https://pubs.rsc.org/en/Content/ArticleLanding/2016/AN/C5AN01636C#!divAbstract\">M. T. Degiacomi and J. L. P. Benesch, EMnIM: software for relating ion mobility mass spectrometry and electron microscopy data, Analyst, 2016 </a>.\n",
    "</div>"
   ]
  },
  {
   "cell_type": "markdown",
   "metadata": {},
   "source": [
    "## Calculating cross-linking distances <a class=\"anchor\" id=\"xlink\"></a>"
   ]
  },
  {
   "cell_type": "markdown",
   "metadata": {},
   "source": [
    "Cross-linking experiments report on the distance between the side chain of specific amino-acids. This distance, measured by a cross-linker molecule, is however not a straight line, but a “shortest solvent accessible path”."
   ]
  },
  {
   "cell_type": "markdown",
   "metadata": {},
   "source": [
    "To identify in a structure which lysines may be cross-linked, we start loading it and identifying the location of all lysines’ NZ atoms:"
   ]
  },
  {
   "cell_type": "code",
   "execution_count": 49,
   "metadata": {},
   "outputs": [
    {
     "name": "stdout",
     "output_type": "stream",
     "text": [
      "[['ATOM' 229 'NZ' 'LYS' 'A' 28 0.0 0.0 '' 1.8 0.0]\n",
      " ['ATOM' 245 'NZ' 'LYS' 'A' 30 0.0 0.0 '' 1.8 0.0]\n",
      " ['ATOM' 308 'NZ' 'LYS' 'A' 39 0.0 0.0 '' 1.8 0.0]\n",
      " ['ATOM' 468 'NZ' 'LYS' 'A' 57 0.0 0.0 '' 1.8 0.0]\n",
      " ['ATOM' 908 'NZ' 'LYS' 'B' 114 0.0 0.0 '' 1.8 0.0]\n",
      " ['ATOM' 924 'NZ' 'LYS' 'B' 116 0.0 0.0 '' 1.8 0.0]\n",
      " ['ATOM' 987 'NZ' 'LYS' 'B' 125 0.0 0.0 '' 1.8 0.0]\n",
      " ['ATOM' 1147 'NZ' 'LYS' 'B' 143 0.0 0.0 '' 1.8 0.0]]\n"
     ]
    }
   ],
   "source": [
    "idx = M.atomselect(\"*\", \"LYS\", \"NZ\", use_resname=True, get_index=True)[1]\n",
    "print(M.get_data(idx))"
   ]
  },
  {
   "cell_type": "markdown",
   "metadata": {},
   "source": [
    "To calculate the path distance between all these atoms, we must first define which protein atoms should be used for clash detection. Here, we select all backbone atoms as well as beta carbon ones. Furthermore, atoms buried in the protein core are also added (with `densify=True`). This makes the protein core more “dense”, reducing the likelihood that a path will find its way through the protein, instead of around it."
   ]
  },
  {
   "cell_type": "code",
   "execution_count": 44,
   "metadata": {},
   "outputs": [
    {
     "data": {
      "text/plain": [
       "array([ True,  True,  True, ...,  True,  True, False], dtype=bool)"
      ]
     },
     "execution_count": 44,
     "metadata": {},
     "output_type": "execute_result"
    }
   ],
   "source": [
    "XL = bb.Xlink(M)\n",
    "XL.set_clashing_atoms(atoms=[\"CA\", \"C\", \"N\", \"O\", \"CB\"], densify=True)"
   ]
  },
  {
   "cell_type": "markdown",
   "metadata": {},
   "source": [
    "We then set up the grid used by the path detection algorithms. Here, we use a local search, using a cubic moving grid of 18 Angstrom per side. After this, the distance matrix path detection algorithm can be launched. We will use a lazy Theta* method, with flexible side chains, and path smoothing as postprocessing."
   ]
  },
  {
   "cell_type": "code",
   "execution_count": 50,
   "metadata": {},
   "outputs": [
    {
     "name": "stdout",
     "output_type": "stream",
     "text": [
      "[[  0.           1.           3.25631629   1.          -1.          -1.\n",
      "   10.66411103  -1.        ]\n",
      " [  1.           0.           9.32140808   1.          -1.          -1.\n",
      "   13.74563207  -1.        ]\n",
      " [  3.25631629   9.32140808   0.           6.85012831  10.18309944\n",
      "   13.59413095   2.03474758   6.1051381 ]\n",
      " [  1.           1.           6.85012831   0.          -1.          -1.\n",
      "    7.11064889  -1.        ]\n",
      " [ -1.          -1.          10.18309944  -1.           0.           1.\n",
      "    3.29491726   1.        ]\n",
      " [ -1.          -1.          13.59413095  -1.           1.           0.\n",
      "    9.54715739   1.        ]\n",
      " [ 10.66411103  13.74563207   2.03474758   7.11064889   3.29491726\n",
      "    9.54715739   0.           6.26021856]\n",
      " [ -1.          -1.           6.1051381   -1.           1.           1.\n",
      "    6.26021856   0.        ]]\n"
     ]
    }
   ],
   "source": [
    "XL.setup_local_search(maxdist=18)\n",
    "distance_mat = XL.distance_matrix(idx, method=\"theta\", smooth=True, flexible_sidechain=True)\n",
    "print(distance_mat)"
   ]
  },
  {
   "cell_type": "markdown",
   "metadata": {},
   "source": [
    "`distance_mat` is the distance matrix between all lysines, sorted according to `idx`. It will contain -1 for lysine’s linking atoms too far to be encompassed by the moving grid, and -2 for failed path detection (e.g. because a linking atom is buried)."
   ]
  },
  {
   "cell_type": "markdown",
   "metadata": {},
   "source": [
    "<div class=\"alert alert-info\">\n",
    "    <b>See also</b> :  this method is presented and benchmarked in\n",
    "  <a href=\"https://www.cell.com/structure/fulltext/S0969-2126(17)30291-5\"> M. T. Degiacomi et al., Accommodating protein dynamics in the analysis of chemical cross-links, Structure, 2017</a>.\n",
    "</div>"
   ]
  }
 ],
 "metadata": {
  "kernelspec": {
   "display_name": "Python 3",
   "language": "python",
   "name": "python3"
  },
  "language_info": {
   "codemirror_mode": {
    "name": "ipython",
    "version": 2
   },
   "file_extension": ".py",
   "mimetype": "text/x-python",
   "name": "python",
   "nbconvert_exporter": "python",
   "pygments_lexer": "ipython2",
   "version": "2.7.12"
  }
 },
 "nbformat": 4,
 "nbformat_minor": 2
}
